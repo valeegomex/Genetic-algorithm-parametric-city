{
 "cells": [
  {
   "cell_type": "code",
   "id": "initial_id",
   "metadata": {
    "collapsed": true,
    "ExecuteTime": {
     "end_time": "2025-09-22T00:40:16.083363Z",
     "start_time": "2025-09-22T00:40:16.056748Z"
    }
   },
   "source": [
    "from functools import total_ordering\n",
    "\n",
    "import numpy as np\n",
    "import pandas as pd\n",
    "import seaborn as sns\n",
    "from scipy.optimize import minimize\n",
    "import matplotlib.pyplot as plt\n",
    "\n",
    "plt.rcParams.update({'font.size': 14})"
   ],
   "outputs": [],
   "execution_count": 46
  },
  {
   "metadata": {},
   "cell_type": "markdown",
   "source": "# Data formating",
   "id": "a12a240639534b77"
  },
  {
   "metadata": {
    "ExecuteTime": {
     "end_time": "2025-09-22T00:40:38.584526Z",
     "start_time": "2025-09-22T00:40:16.099735Z"
    }
   },
   "cell_type": "code",
   "source": [
    "data = pd.read_csv(r\"Z:\\TC_Sydney_Uni_research_extract_202410.csv\")\n",
    "data = data[data['ROUTE'] == 'LGHTRL'].reset_index(drop=True)  # Filter by light train\n",
    "data = data[['ORIGIN_DATE', 'ORIGIN_STOP', 'ORIGIN_STOP_XY',\n",
    "             'DESTINATION_DATE', 'DESTINATION_STOP', 'DESTINATION_STOP_XY']]  # Filter columns by relevance\n",
    "\n",
    "data.info()"
   ],
   "id": "6f0ccae1b039804b",
   "outputs": [
    {
     "name": "stdout",
     "output_type": "stream",
     "text": [
      "<class 'pandas.core.frame.DataFrame'>\n",
      "RangeIndex: 136346 entries, 0 to 136345\n",
      "Data columns (total 6 columns):\n",
      " #   Column               Non-Null Count   Dtype \n",
      "---  ------               --------------   ----- \n",
      " 0   ORIGIN_DATE          136346 non-null  object\n",
      " 1   ORIGIN_STOP          136346 non-null  object\n",
      " 2   ORIGIN_STOP_XY       136346 non-null  object\n",
      " 3   DESTINATION_DATE     136346 non-null  object\n",
      " 4   DESTINATION_STOP     136346 non-null  object\n",
      " 5   DESTINATION_STOP_XY  136346 non-null  object\n",
      "dtypes: object(6)\n",
      "memory usage: 6.2+ MB\n"
     ]
    }
   ],
   "execution_count": 47
  },
  {
   "metadata": {
    "ExecuteTime": {
     "end_time": "2025-09-22T00:40:39.163929Z",
     "start_time": "2025-09-22T00:40:38.631673Z"
    }
   },
   "cell_type": "code",
   "source": [
    "# Delete the distinction between platforms in the origin and destination\n",
    "\n",
    "def remove_platform(text):\n",
    "    if 'Platform' in text:\n",
    "        return text.split('Platform')[0].strip()\n",
    "    return text\n",
    "\n",
    "data['ORIGIN_STOP'] = data['ORIGIN_STOP'].map(remove_platform)\n",
    "data['DESTINATION_STOP'] = data['DESTINATION_STOP'].map(remove_platform)\n",
    "\n",
    "# Change the stops for an ID\n",
    "stops_id = {'8100: Gungahlin Place': 0,\n",
    "            '8101: Gungahlin Place': 0,\n",
    "            '8104: Manning Clark Crescent': 1,\n",
    "            '8105: Manning Clark Crescent': 1,\n",
    "            '8106: Mapleton Avenue': 2,\n",
    "            '8107: Mapleton Avenue': 2,\n",
    "            '8108: Nullarbor Avenue': 3,\n",
    "            '8109: Nullarbor Avenue': 3,\n",
    "            '8110: Well Station Drive': 4,\n",
    "            '8111: Well Station Drive': 4,\n",
    "            '8114: EPIC and Racecourse': 5,\n",
    "            '8116: Phillip Avenue': 6,\n",
    "            '8117: Phillip Avenue': 6,\n",
    "            '8118: Swinden Street': 7,\n",
    "            '8119: Swinden Street': 7,\n",
    "            '8120: Dickson': 8,\n",
    "            '8121: Dickson': 8,\n",
    "            '8122: Macarthur Avenue': 9,\n",
    "            '8123: Macarthur Avenue': 9,\n",
    "            '8124: Ipima Street': 10,\n",
    "            '8125: Ipima Street': 10,\n",
    "            '8126: Elouera Street': 11,\n",
    "            '8127: Elouera Street': 11,\n",
    "            '8128: Alinga Street': 12,\n",
    "            '8129: Alinga Street': 12\n",
    "            }\n",
    "\n",
    "data['ORIGIN_STOP'] = data['ORIGIN_STOP'].replace(stops_id)\n",
    "data['DESTINATION_STOP'] = data['DESTINATION_STOP'].replace(stops_id)"
   ],
   "id": "7422c62e2aaff978",
   "outputs": [],
   "execution_count": 48
  },
  {
   "metadata": {
    "ExecuteTime": {
     "end_time": "2025-09-22T00:40:39.424852Z",
     "start_time": "2025-09-22T00:40:39.191387Z"
    }
   },
   "cell_type": "code",
   "source": [
    "# Average demand between 7am and 8am\n",
    "minimal_time = 8\n",
    "maximal_time = 9\n",
    "\n",
    "# Selected date\n",
    "selected_date = pd.to_datetime('2024-09-18').date()\n",
    "\n",
    "# To datetime\n",
    "data['ORIGIN_DATE'] = pd.to_datetime(data['ORIGIN_DATE'], format='%Y-%m-%d %H:%M:%S')\n",
    "data['DESTINATION_DATE'] = pd.to_datetime(data['DESTINATION_DATE'], format='%Y-%m-%d %H:%M:%S')\n",
    "# Calculate only the time\n",
    "data['ORIGIN_TIME'] = data['ORIGIN_DATE'].dt.hour * 60 + data['ORIGIN_DATE'].dt.minute\n",
    "data['DESTINATION_TIME'] = data['DESTINATION_DATE'].dt.hour * 60 + data['DESTINATION_DATE'].dt.minute\n",
    "# Filter by date\n",
    "data['ORIGIN_DATE_DATE'] = data['ORIGIN_DATE'].dt.date\n",
    "data = data[data['ORIGIN_DATE_DATE'] == selected_date]\n",
    "# Filter by time\n",
    "data = data[(data['ORIGIN_TIME'] >= minimal_time*60) & (data['ORIGIN_TIME'] < maximal_time*60)]\n",
    "# Group demand\n",
    "demand = data.groupby(['ORIGIN_STOP', 'DESTINATION_STOP']).size().reset_index(name='DEMAND')\n",
    "\n",
    "demand.head()"
   ],
   "id": "90b8faa9b004f14",
   "outputs": [
    {
     "data": {
      "text/plain": [
       "   ORIGIN_STOP  DESTINATION_STOP  DEMAND\n",
       "0            0                 0      11\n",
       "1            0                 1       1\n",
       "2            0                 2      10\n",
       "3            0                 3      41\n",
       "4            0                 4       4"
      ],
      "text/html": [
       "<div>\n",
       "<style scoped>\n",
       "    .dataframe tbody tr th:only-of-type {\n",
       "        vertical-align: middle;\n",
       "    }\n",
       "\n",
       "    .dataframe tbody tr th {\n",
       "        vertical-align: top;\n",
       "    }\n",
       "\n",
       "    .dataframe thead th {\n",
       "        text-align: right;\n",
       "    }\n",
       "</style>\n",
       "<table border=\"1\" class=\"dataframe\">\n",
       "  <thead>\n",
       "    <tr style=\"text-align: right;\">\n",
       "      <th></th>\n",
       "      <th>ORIGIN_STOP</th>\n",
       "      <th>DESTINATION_STOP</th>\n",
       "      <th>DEMAND</th>\n",
       "    </tr>\n",
       "  </thead>\n",
       "  <tbody>\n",
       "    <tr>\n",
       "      <th>0</th>\n",
       "      <td>0</td>\n",
       "      <td>0</td>\n",
       "      <td>11</td>\n",
       "    </tr>\n",
       "    <tr>\n",
       "      <th>1</th>\n",
       "      <td>0</td>\n",
       "      <td>1</td>\n",
       "      <td>1</td>\n",
       "    </tr>\n",
       "    <tr>\n",
       "      <th>2</th>\n",
       "      <td>0</td>\n",
       "      <td>2</td>\n",
       "      <td>10</td>\n",
       "    </tr>\n",
       "    <tr>\n",
       "      <th>3</th>\n",
       "      <td>0</td>\n",
       "      <td>3</td>\n",
       "      <td>41</td>\n",
       "    </tr>\n",
       "    <tr>\n",
       "      <th>4</th>\n",
       "      <td>0</td>\n",
       "      <td>4</td>\n",
       "      <td>4</td>\n",
       "    </tr>\n",
       "  </tbody>\n",
       "</table>\n",
       "</div>"
      ]
     },
     "execution_count": 49,
     "metadata": {},
     "output_type": "execute_result"
    }
   ],
   "execution_count": 49
  },
  {
   "metadata": {
    "ExecuteTime": {
     "end_time": "2025-09-22T00:40:39.696920Z",
     "start_time": "2025-09-22T00:40:39.665334Z"
    }
   },
   "cell_type": "code",
   "source": [
    "# Give the origin-destination matrix shape\n",
    "demand = demand.pivot(columns='DESTINATION_STOP', index='ORIGIN_STOP', values='DEMAND')\n",
    "# Make the diagonal zero\n",
    "for i in range(demand.shape[0]):\n",
    "    demand.loc[i,i] = 0\n",
    "# Fill with zero\n",
    "demand.fillna(0, inplace=True)\n",
    "# Sort columns\n",
    "demand = demand[sorted(demand.columns)]\n",
    "\n",
    "demand"
   ],
   "id": "3c2b37c924bfde4e",
   "outputs": [
    {
     "data": {
      "text/plain": [
       "DESTINATION_STOP    0    1     2     3    4    5     6    7     8     9   \\\n",
       "ORIGIN_STOP                                                                \n",
       "0                  0.0  1.0  10.0  41.0  4.0  0.0   4.0  9.0  84.0   5.0   \n",
       "1                  9.0  0.0   1.0   4.0  0.0  0.0   0.0  1.0  14.0   0.0   \n",
       "2                 34.0  0.0   0.0   1.0  1.0  0.0   0.0  0.0  32.0   3.0   \n",
       "3                 19.0  0.0   0.0   0.0  3.0  0.0   2.0  1.0  14.0   5.0   \n",
       "4                  8.0  0.0   0.0   0.0  0.0  0.0   1.0  2.0  14.0   0.0   \n",
       "5                  0.0  0.0   0.0   0.0  0.0  0.0   0.0  0.0   1.0   0.0   \n",
       "6                  4.0  1.0   1.0   0.0  2.0  0.0   0.0  0.0   4.0   1.0   \n",
       "7                  3.0  0.0   0.0   1.0  0.0  0.0   0.0  0.0   0.0   2.0   \n",
       "8                 16.0  0.0   0.0   0.0  1.0  0.0   1.0  1.0   0.0   3.0   \n",
       "9                  6.0  0.0   0.0   1.0  1.0  0.0   0.0  1.0   5.0   0.0   \n",
       "10                 4.0  0.0   1.0   0.0  0.0  0.0   1.0  0.0   3.0   0.0   \n",
       "11                 5.0  0.0   0.0   2.0  0.0  0.0   0.0  0.0   7.0   1.0   \n",
       "12                20.0  0.0   1.0   3.0  3.0  0.0  13.0  4.0  60.0  13.0   \n",
       "\n",
       "DESTINATION_STOP    10    11     12  \n",
       "ORIGIN_STOP                          \n",
       "0                 15.0  21.0  394.0  \n",
       "1                  2.0   8.0   49.0  \n",
       "2                  9.0   4.0  115.0  \n",
       "3                  1.0  10.0   92.0  \n",
       "4                  4.0   4.0  102.0  \n",
       "5                  0.0   2.0   15.0  \n",
       "6                  2.0   1.0   56.0  \n",
       "7                  1.0   3.0   64.0  \n",
       "8                  5.0  14.0  204.0  \n",
       "9                  0.0   2.0  154.0  \n",
       "10                 0.0   1.0   66.0  \n",
       "11                 1.0   0.0   11.0  \n",
       "12                23.0   6.0    0.0  "
      ],
      "text/html": [
       "<div>\n",
       "<style scoped>\n",
       "    .dataframe tbody tr th:only-of-type {\n",
       "        vertical-align: middle;\n",
       "    }\n",
       "\n",
       "    .dataframe tbody tr th {\n",
       "        vertical-align: top;\n",
       "    }\n",
       "\n",
       "    .dataframe thead th {\n",
       "        text-align: right;\n",
       "    }\n",
       "</style>\n",
       "<table border=\"1\" class=\"dataframe\">\n",
       "  <thead>\n",
       "    <tr style=\"text-align: right;\">\n",
       "      <th>DESTINATION_STOP</th>\n",
       "      <th>0</th>\n",
       "      <th>1</th>\n",
       "      <th>2</th>\n",
       "      <th>3</th>\n",
       "      <th>4</th>\n",
       "      <th>5</th>\n",
       "      <th>6</th>\n",
       "      <th>7</th>\n",
       "      <th>8</th>\n",
       "      <th>9</th>\n",
       "      <th>10</th>\n",
       "      <th>11</th>\n",
       "      <th>12</th>\n",
       "    </tr>\n",
       "    <tr>\n",
       "      <th>ORIGIN_STOP</th>\n",
       "      <th></th>\n",
       "      <th></th>\n",
       "      <th></th>\n",
       "      <th></th>\n",
       "      <th></th>\n",
       "      <th></th>\n",
       "      <th></th>\n",
       "      <th></th>\n",
       "      <th></th>\n",
       "      <th></th>\n",
       "      <th></th>\n",
       "      <th></th>\n",
       "      <th></th>\n",
       "    </tr>\n",
       "  </thead>\n",
       "  <tbody>\n",
       "    <tr>\n",
       "      <th>0</th>\n",
       "      <td>0.0</td>\n",
       "      <td>1.0</td>\n",
       "      <td>10.0</td>\n",
       "      <td>41.0</td>\n",
       "      <td>4.0</td>\n",
       "      <td>0.0</td>\n",
       "      <td>4.0</td>\n",
       "      <td>9.0</td>\n",
       "      <td>84.0</td>\n",
       "      <td>5.0</td>\n",
       "      <td>15.0</td>\n",
       "      <td>21.0</td>\n",
       "      <td>394.0</td>\n",
       "    </tr>\n",
       "    <tr>\n",
       "      <th>1</th>\n",
       "      <td>9.0</td>\n",
       "      <td>0.0</td>\n",
       "      <td>1.0</td>\n",
       "      <td>4.0</td>\n",
       "      <td>0.0</td>\n",
       "      <td>0.0</td>\n",
       "      <td>0.0</td>\n",
       "      <td>1.0</td>\n",
       "      <td>14.0</td>\n",
       "      <td>0.0</td>\n",
       "      <td>2.0</td>\n",
       "      <td>8.0</td>\n",
       "      <td>49.0</td>\n",
       "    </tr>\n",
       "    <tr>\n",
       "      <th>2</th>\n",
       "      <td>34.0</td>\n",
       "      <td>0.0</td>\n",
       "      <td>0.0</td>\n",
       "      <td>1.0</td>\n",
       "      <td>1.0</td>\n",
       "      <td>0.0</td>\n",
       "      <td>0.0</td>\n",
       "      <td>0.0</td>\n",
       "      <td>32.0</td>\n",
       "      <td>3.0</td>\n",
       "      <td>9.0</td>\n",
       "      <td>4.0</td>\n",
       "      <td>115.0</td>\n",
       "    </tr>\n",
       "    <tr>\n",
       "      <th>3</th>\n",
       "      <td>19.0</td>\n",
       "      <td>0.0</td>\n",
       "      <td>0.0</td>\n",
       "      <td>0.0</td>\n",
       "      <td>3.0</td>\n",
       "      <td>0.0</td>\n",
       "      <td>2.0</td>\n",
       "      <td>1.0</td>\n",
       "      <td>14.0</td>\n",
       "      <td>5.0</td>\n",
       "      <td>1.0</td>\n",
       "      <td>10.0</td>\n",
       "      <td>92.0</td>\n",
       "    </tr>\n",
       "    <tr>\n",
       "      <th>4</th>\n",
       "      <td>8.0</td>\n",
       "      <td>0.0</td>\n",
       "      <td>0.0</td>\n",
       "      <td>0.0</td>\n",
       "      <td>0.0</td>\n",
       "      <td>0.0</td>\n",
       "      <td>1.0</td>\n",
       "      <td>2.0</td>\n",
       "      <td>14.0</td>\n",
       "      <td>0.0</td>\n",
       "      <td>4.0</td>\n",
       "      <td>4.0</td>\n",
       "      <td>102.0</td>\n",
       "    </tr>\n",
       "    <tr>\n",
       "      <th>5</th>\n",
       "      <td>0.0</td>\n",
       "      <td>0.0</td>\n",
       "      <td>0.0</td>\n",
       "      <td>0.0</td>\n",
       "      <td>0.0</td>\n",
       "      <td>0.0</td>\n",
       "      <td>0.0</td>\n",
       "      <td>0.0</td>\n",
       "      <td>1.0</td>\n",
       "      <td>0.0</td>\n",
       "      <td>0.0</td>\n",
       "      <td>2.0</td>\n",
       "      <td>15.0</td>\n",
       "    </tr>\n",
       "    <tr>\n",
       "      <th>6</th>\n",
       "      <td>4.0</td>\n",
       "      <td>1.0</td>\n",
       "      <td>1.0</td>\n",
       "      <td>0.0</td>\n",
       "      <td>2.0</td>\n",
       "      <td>0.0</td>\n",
       "      <td>0.0</td>\n",
       "      <td>0.0</td>\n",
       "      <td>4.0</td>\n",
       "      <td>1.0</td>\n",
       "      <td>2.0</td>\n",
       "      <td>1.0</td>\n",
       "      <td>56.0</td>\n",
       "    </tr>\n",
       "    <tr>\n",
       "      <th>7</th>\n",
       "      <td>3.0</td>\n",
       "      <td>0.0</td>\n",
       "      <td>0.0</td>\n",
       "      <td>1.0</td>\n",
       "      <td>0.0</td>\n",
       "      <td>0.0</td>\n",
       "      <td>0.0</td>\n",
       "      <td>0.0</td>\n",
       "      <td>0.0</td>\n",
       "      <td>2.0</td>\n",
       "      <td>1.0</td>\n",
       "      <td>3.0</td>\n",
       "      <td>64.0</td>\n",
       "    </tr>\n",
       "    <tr>\n",
       "      <th>8</th>\n",
       "      <td>16.0</td>\n",
       "      <td>0.0</td>\n",
       "      <td>0.0</td>\n",
       "      <td>0.0</td>\n",
       "      <td>1.0</td>\n",
       "      <td>0.0</td>\n",
       "      <td>1.0</td>\n",
       "      <td>1.0</td>\n",
       "      <td>0.0</td>\n",
       "      <td>3.0</td>\n",
       "      <td>5.0</td>\n",
       "      <td>14.0</td>\n",
       "      <td>204.0</td>\n",
       "    </tr>\n",
       "    <tr>\n",
       "      <th>9</th>\n",
       "      <td>6.0</td>\n",
       "      <td>0.0</td>\n",
       "      <td>0.0</td>\n",
       "      <td>1.0</td>\n",
       "      <td>1.0</td>\n",
       "      <td>0.0</td>\n",
       "      <td>0.0</td>\n",
       "      <td>1.0</td>\n",
       "      <td>5.0</td>\n",
       "      <td>0.0</td>\n",
       "      <td>0.0</td>\n",
       "      <td>2.0</td>\n",
       "      <td>154.0</td>\n",
       "    </tr>\n",
       "    <tr>\n",
       "      <th>10</th>\n",
       "      <td>4.0</td>\n",
       "      <td>0.0</td>\n",
       "      <td>1.0</td>\n",
       "      <td>0.0</td>\n",
       "      <td>0.0</td>\n",
       "      <td>0.0</td>\n",
       "      <td>1.0</td>\n",
       "      <td>0.0</td>\n",
       "      <td>3.0</td>\n",
       "      <td>0.0</td>\n",
       "      <td>0.0</td>\n",
       "      <td>1.0</td>\n",
       "      <td>66.0</td>\n",
       "    </tr>\n",
       "    <tr>\n",
       "      <th>11</th>\n",
       "      <td>5.0</td>\n",
       "      <td>0.0</td>\n",
       "      <td>0.0</td>\n",
       "      <td>2.0</td>\n",
       "      <td>0.0</td>\n",
       "      <td>0.0</td>\n",
       "      <td>0.0</td>\n",
       "      <td>0.0</td>\n",
       "      <td>7.0</td>\n",
       "      <td>1.0</td>\n",
       "      <td>1.0</td>\n",
       "      <td>0.0</td>\n",
       "      <td>11.0</td>\n",
       "    </tr>\n",
       "    <tr>\n",
       "      <th>12</th>\n",
       "      <td>20.0</td>\n",
       "      <td>0.0</td>\n",
       "      <td>1.0</td>\n",
       "      <td>3.0</td>\n",
       "      <td>3.0</td>\n",
       "      <td>0.0</td>\n",
       "      <td>13.0</td>\n",
       "      <td>4.0</td>\n",
       "      <td>60.0</td>\n",
       "      <td>13.0</td>\n",
       "      <td>23.0</td>\n",
       "      <td>6.0</td>\n",
       "      <td>0.0</td>\n",
       "    </tr>\n",
       "  </tbody>\n",
       "</table>\n",
       "</div>"
      ]
     },
     "execution_count": 50,
     "metadata": {},
     "output_type": "execute_result"
    }
   ],
   "execution_count": 50
  },
  {
   "metadata": {
    "ExecuteTime": {
     "end_time": "2025-09-22T00:40:40.633927Z",
     "start_time": "2025-09-22T00:40:39.983137Z"
    }
   },
   "cell_type": "code",
   "source": [
    "# Pasar la demanda a intervalos\n",
    "data = demand.values.flatten()\n",
    "deciles = np.arange(0, max(data), max(data)//9)\n",
    "\n",
    "def assign_category(x):\n",
    "    for index, item in enumerate(deciles):\n",
    "        if x < item:\n",
    "            return index-1\n",
    "    return len(deciles)-1\n",
    "\n",
    "demand_grouped = demand.map(assign_category)\n",
    "\n",
    "# # Crear el mapa de calor usando matplotlib\n",
    "# plt.figure(figsize=(8, 6))\n",
    "# plt.imshow(demand_grouped, cmap='RdYlGn', interpolation='nearest')\n",
    "# plt.colorbar(label='Valor')\n",
    "# plt.xticks(ticks=np.arange(len(demand_grouped.index)), labels=demand.columns)\n",
    "# plt.yticks(ticks=np.arange(len(demand_grouped.index)), labels=demand.index)\n",
    "# plt.show()\n",
    "\n",
    "ax = sns.heatmap(demand_grouped, linewidths=.5, linecolor='lightgray', cbar_kws={\"boundaries\": [-0.5, 0,  0.5,  1.5,  2.5,  3.5,  4.5,  5.5,  6.5,  7.5, 9.5]}, cmap='rocket_r')\n",
    "# ax = sns.heatmap(demand_grouped, linewidths=.5, linecolor='lightgray', cmap='rocket_r')\n",
    "\n",
    "\n",
    "# Manually specify colorbar labelling after it's been generated\n",
    "colorbar = ax.collections[0].colorbar\n",
    "colorbar.set_ticks([-0.25, 0.25, 1, 2, 3, 4, 5, 6, 7, 8.5])\n",
    "colorbar.set_ticklabels([f'[{int(deciles[i])}, {int(deciles[i+1])}]' for i in range(len(deciles)-1)] + [f'[{int(deciles[-1])}, {int(demand.max().max())}]'])\n",
    "\n",
    "# X - Y axis labels\n",
    "ax.set_ylabel('Origin')\n",
    "ax.set_xlabel('Destination')\n",
    "\n",
    "# Only y-axis labels need their rotation set, x-axis labels already have a rotation of 0\n",
    "_, labels = plt.yticks()\n",
    "plt.setp(labels, rotation=0)\n",
    "plt.title('Origin-destination matrix Canberra')\n",
    "\n",
    "plt.savefig('OD Canberra.png', dpi=300)\n",
    "plt.show()"
   ],
   "id": "c9c8bdb7a9249b0c",
   "outputs": [
    {
     "data": {
      "text/plain": [
       "<Figure size 640x480 with 2 Axes>"
      ],
      "image/png": "[encoded data removed]"
     },
     "metadata": {},
     "output_type": "display_data"
    }
   ],
   "execution_count": 51
  },
  {
   "metadata": {
    "ExecuteTime": {
     "end_time": "2025-09-22T05:09:42.492225Z",
     "start_time": "2025-09-22T05:09:42.474038Z"
    }
   },
   "cell_type": "code",
   "source": [
    "# To fabricate the travel times with google maps\n",
    "travel_time = np.zeros((13,13))\n",
    "travel_time[0,1] = 2\n",
    "travel_time[1,2] = 1\n",
    "travel_time[2,3] = 2\n",
    "travel_time[3,4] = 2\n",
    "travel_time[4,5] = 4\n",
    "travel_time[5,6] = 2\n",
    "travel_time[6,7] = 2\n",
    "travel_time[7,8] = 2\n",
    "travel_time[8,9] = 2\n",
    "travel_time[9,10] = 2\n",
    "travel_time[10,11] = 1\n",
    "travel_time[11,12] = 2\n",
    "\n",
    "for i in range(13):\n",
    "    for j in range(i+1, 13):\n",
    "        travel_time[i,j] = travel_time[i,j-1] + travel_time[j-1,j]\n",
    "        travel_time[j,i] = travel_time[i,j]\n",
    "\n",
    "travel_time = pd.DataFrame(travel_time)\n",
    "# Minute to hour\n",
    "travel_time = travel_time/60\n",
    "travel_time"
   ],
   "id": "3465704030f54df5",
   "outputs": [
    {
     "data": {
      "text/plain": [
       "          0         1         2         3         4         5         6   \\\n",
       "0   0.000000  0.033333  0.050000  0.083333  0.116667  0.183333  0.216667   \n",
       "1   0.033333  0.000000  0.016667  0.050000  0.083333  0.150000  0.183333   \n",
       "2   0.050000  0.016667  0.000000  0.033333  0.066667  0.133333  0.166667   \n",
       "3   0.083333  0.050000  0.033333  0.000000  0.033333  0.100000  0.133333   \n",
       "4   0.116667  0.083333  0.066667  0.033333  0.000000  0.066667  0.100000   \n",
       "5   0.183333  0.150000  0.133333  0.100000  0.066667  0.000000  0.033333   \n",
       "6   0.216667  0.183333  0.166667  0.133333  0.100000  0.033333  0.000000   \n",
       "7   0.250000  0.216667  0.200000  0.166667  0.133333  0.066667  0.033333   \n",
       "8   0.283333  0.250000  0.233333  0.200000  0.166667  0.100000  0.066667   \n",
       "9   0.316667  0.283333  0.266667  0.233333  0.200000  0.133333  0.100000   \n",
       "10  0.350000  0.316667  0.300000  0.266667  0.233333  0.166667  0.133333   \n",
       "11  0.366667  0.333333  0.316667  0.283333  0.250000  0.183333  0.150000   \n",
       "12  0.400000  0.366667  0.350000  0.316667  0.283333  0.216667  0.183333   \n",
       "\n",
       "          7         8         9         10        11        12  \n",
       "0   0.250000  0.283333  0.316667  0.350000  0.366667  0.400000  \n",
       "1   0.216667  0.250000  0.283333  0.316667  0.333333  0.366667  \n",
       "2   0.200000  0.233333  0.266667  0.300000  0.316667  0.350000  \n",
       "3   0.166667  0.200000  0.233333  0.266667  0.283333  0.316667  \n",
       "4   0.133333  0.166667  0.200000  0.233333  0.250000  0.283333  \n",
       "5   0.066667  0.100000  0.133333  0.166667  0.183333  0.216667  \n",
       "6   0.033333  0.066667  0.100000  0.133333  0.150000  0.183333  \n",
       "7   0.000000  0.033333  0.066667  0.100000  0.116667  0.150000  \n",
       "8   0.033333  0.000000  0.033333  0.066667  0.083333  0.116667  \n",
       "9   0.066667  0.033333  0.000000  0.033333  0.050000  0.083333  \n",
       "10  0.100000  0.066667  0.033333  0.000000  0.016667  0.050000  \n",
       "11  0.116667  0.083333  0.050000  0.016667  0.000000  0.033333  \n",
       "12  0.150000  0.116667  0.083333  0.050000  0.033333  0.000000  "
      ],
      "text/html": [
       "<div>\n",
       "<style scoped>\n",
       "    .dataframe tbody tr th:only-of-type {\n",
       "        vertical-align: middle;\n",
       "    }\n",
       "\n",
       "    .dataframe tbody tr th {\n",
       "        vertical-align: top;\n",
       "    }\n",
       "\n",
       "    .dataframe thead th {\n",
       "        text-align: right;\n",
       "    }\n",
       "</style>\n",
       "<table border=\"1\" class=\"dataframe\">\n",
       "  <thead>\n",
       "    <tr style=\"text-align: right;\">\n",
       "      <th></th>\n",
       "      <th>0</th>\n",
       "      <th>1</th>\n",
       "      <th>2</th>\n",
       "      <th>3</th>\n",
       "      <th>4</th>\n",
       "      <th>5</th>\n",
       "      <th>6</th>\n",
       "      <th>7</th>\n",
       "      <th>8</th>\n",
       "      <th>9</th>\n",
       "      <th>10</th>\n",
       "      <th>11</th>\n",
       "      <th>12</th>\n",
       "    </tr>\n",
       "  </thead>\n",
       "  <tbody>\n",
       "    <tr>\n",
       "      <th>0</th>\n",
       "      <td>0.000000</td>\n",
       "      <td>0.033333</td>\n",
       "      <td>0.050000</td>\n",
       "      <td>0.083333</td>\n",
       "      <td>0.116667</td>\n",
       "      <td>0.183333</td>\n",
       "      <td>0.216667</td>\n",
       "      <td>0.250000</td>\n",
       "      <td>0.283333</td>\n",
       "      <td>0.316667</td>\n",
       "      <td>0.350000</td>\n",
       "      <td>0.366667</td>\n",
       "      <td>0.400000</td>\n",
       "    </tr>\n",
       "    <tr>\n",
       "      <th>1</th>\n",
       "      <td>0.033333</td>\n",
       "      <td>0.000000</td>\n",
       "      <td>0.016667</td>\n",
       "      <td>0.050000</td>\n",
       "      <td>0.083333</td>\n",
       "      <td>0.150000</td>\n",
       "      <td>0.183333</td>\n",
       "      <td>0.216667</td>\n",
       "      <td>0.250000</td>\n",
       "      <td>0.283333</td>\n",
       "      <td>0.316667</td>\n",
       "      <td>0.333333</td>\n",
       "      <td>0.366667</td>\n",
       "    </tr>\n",
       "    <tr>\n",
       "      <th>2</th>\n",
       "      <td>0.050000</td>\n",
       "      <td>0.016667</td>\n",
       "      <td>0.000000</td>\n",
       "      <td>0.033333</td>\n",
       "      <td>0.066667</td>\n",
       "      <td>0.133333</td>\n",
       "      <td>0.166667</td>\n",
       "      <td>0.200000</td>\n",
       "      <td>0.233333</td>\n",
       "      <td>0.266667</td>\n",
       "      <td>0.300000</td>\n",
       "      <td>0.316667</td>\n",
       "      <td>0.350000</td>\n",
       "    </tr>\n",
       "    <tr>\n",
       "      <th>3</th>\n",
       "      <td>0.083333</td>\n",
       "      <td>0.050000</td>\n",
       "      <td>0.033333</td>\n",
       "      <td>0.000000</td>\n",
       "      <td>0.033333</td>\n",
       "      <td>0.100000</td>\n",
       "      <td>0.133333</td>\n",
       "      <td>0.166667</td>\n",
       "      <td>0.200000</td>\n",
       "      <td>0.233333</td>\n",
       "      <td>0.266667</td>\n",
       "      <td>0.283333</td>\n",
       "      <td>0.316667</td>\n",
       "    </tr>\n",
       "    <tr>\n",
       "      <th>4</th>\n",
       "      <td>0.116667</td>\n",
       "      <td>0.083333</td>\n",
       "      <td>0.066667</td>\n",
       "      <td>0.033333</td>\n",
       "      <td>0.000000</td>\n",
       "      <td>0.066667</td>\n",
       "      <td>0.100000</td>\n",
       "      <td>0.133333</td>\n",
       "      <td>0.166667</td>\n",
       "      <td>0.200000</td>\n",
       "      <td>0.233333</td>\n",
       "      <td>0.250000</td>\n",
       "      <td>0.283333</td>\n",
       "    </tr>\n",
       "    <tr>\n",
       "      <th>5</th>\n",
       "      <td>0.183333</td>\n",
       "      <td>0.150000</td>\n",
       "      <td>0.133333</td>\n",
       "      <td>0.100000</td>\n",
       "      <td>0.066667</td>\n",
       "      <td>0.000000</td>\n",
       "      <td>0.033333</td>\n",
       "      <td>0.066667</td>\n",
       "      <td>0.100000</td>\n",
       "      <td>0.133333</td>\n",
       "      <td>0.166667</td>\n",
       "      <td>0.183333</td>\n",
       "      <td>0.216667</td>\n",
       "    </tr>\n",
       "    <tr>\n",
       "      <th>6</th>\n",
       "      <td>0.216667</td>\n",
       "      <td>0.183333</td>\n",
       "      <td>0.166667</td>\n",
       "      <td>0.133333</td>\n",
       "      <td>0.100000</td>\n",
       "      <td>0.033333</td>\n",
       "      <td>0.000000</td>\n",
       "      <td>0.033333</td>\n",
       "      <td>0.066667</td>\n",
       "      <td>0.100000</td>\n",
       "      <td>0.133333</td>\n",
       "      <td>0.150000</td>\n",
       "      <td>0.183333</td>\n",
       "    </tr>\n",
       "    <tr>\n",
       "      <th>7</th>\n",
       "      <td>0.250000</td>\n",
       "      <td>0.216667</td>\n",
       "      <td>0.200000</td>\n",
       "      <td>0.166667</td>\n",
       "      <td>0.133333</td>\n",
       "      <td>0.066667</td>\n",
       "      <td>0.033333</td>\n",
       "      <td>0.000000</td>\n",
       "      <td>0.033333</td>\n",
       "      <td>0.066667</td>\n",
       "      <td>0.100000</td>\n",
       "      <td>0.116667</td>\n",
       "      <td>0.150000</td>\n",
       "    </tr>\n",
       "    <tr>\n",
       "      <th>8</th>\n",
       "      <td>0.283333</td>\n",
       "      <td>0.250000</td>\n",
       "      <td>0.233333</td>\n",
       "      <td>0.200000</td>\n",
       "      <td>0.166667</td>\n",
       "      <td>0.100000</td>\n",
       "      <td>0.066667</td>\n",
       "      <td>0.033333</td>\n",
       "      <td>0.000000</td>\n",
       "      <td>0.033333</td>\n",
       "      <td>0.066667</td>\n",
       "      <td>0.083333</td>\n",
       "      <td>0.116667</td>\n",
       "    </tr>\n",
       "    <tr>\n",
       "      <th>9</th>\n",
       "      <td>0.316667</td>\n",
       "      <td>0.283333</td>\n",
       "      <td>0.266667</td>\n",
       "      <td>0.233333</td>\n",
       "      <td>0.200000</td>\n",
       "      <td>0.133333</td>\n",
       "      <td>0.100000</td>\n",
       "      <td>0.066667</td>\n",
       "      <td>0.033333</td>\n",
       "      <td>0.000000</td>\n",
       "      <td>0.033333</td>\n",
       "      <td>0.050000</td>\n",
       "      <td>0.083333</td>\n",
       "    </tr>\n",
       "    <tr>\n",
       "      <th>10</th>\n",
       "      <td>0.350000</td>\n",
       "      <td>0.316667</td>\n",
       "      <td>0.300000</td>\n",
       "      <td>0.266667</td>\n",
       "      <td>0.233333</td>\n",
       "      <td>0.166667</td>\n",
       "      <td>0.133333</td>\n",
       "      <td>0.100000</td>\n",
       "      <td>0.066667</td>\n",
       "      <td>0.033333</td>\n",
       "      <td>0.000000</td>\n",
       "      <td>0.016667</td>\n",
       "      <td>0.050000</td>\n",
       "    </tr>\n",
       "    <tr>\n",
       "      <th>11</th>\n",
       "      <td>0.366667</td>\n",
       "      <td>0.333333</td>\n",
       "      <td>0.316667</td>\n",
       "      <td>0.283333</td>\n",
       "      <td>0.250000</td>\n",
       "      <td>0.183333</td>\n",
       "      <td>0.150000</td>\n",
       "      <td>0.116667</td>\n",
       "      <td>0.083333</td>\n",
       "      <td>0.050000</td>\n",
       "      <td>0.016667</td>\n",
       "      <td>0.000000</td>\n",
       "      <td>0.033333</td>\n",
       "    </tr>\n",
       "    <tr>\n",
       "      <th>12</th>\n",
       "      <td>0.400000</td>\n",
       "      <td>0.366667</td>\n",
       "      <td>0.350000</td>\n",
       "      <td>0.316667</td>\n",
       "      <td>0.283333</td>\n",
       "      <td>0.216667</td>\n",
       "      <td>0.183333</td>\n",
       "      <td>0.150000</td>\n",
       "      <td>0.116667</td>\n",
       "      <td>0.083333</td>\n",
       "      <td>0.050000</td>\n",
       "      <td>0.033333</td>\n",
       "      <td>0.000000</td>\n",
       "    </tr>\n",
       "  </tbody>\n",
       "</table>\n",
       "</div>"
      ]
     },
     "execution_count": 174,
     "metadata": {},
     "output_type": "execute_result"
    }
   ],
   "execution_count": 174
  },
  {
   "metadata": {
    "ExecuteTime": {
     "end_time": "2025-09-22T00:40:41.019435Z",
     "start_time": "2025-09-22T00:40:41.015084Z"
    }
   },
   "cell_type": "code",
   "source": [
    "# # Calculate travel times\n",
    "# data['TRAVEL_TIME_MINUTES'] = data['DESTINATION_TIME'] - data['ORIGIN_TIME']\n",
    "# travel_time = data[['ORIGIN_STOP', 'DESTINATION_STOP', 'TRAVEL_TIME_MINUTES']].groupby(['ORIGIN_STOP', 'DESTINATION_STOP']).mean().reset_index()\n",
    "# travel_time = travel_time.pivot(columns='DESTINATION_STOP', index='ORIGIN_STOP', values='TRAVEL_TIME_MINUTES')\n",
    "#\n",
    "# # Make the diagonal zero\n",
    "# for i in range(travel_time.shape[0]):\n",
    "#     travel_time.loc[i,i] = 0\n",
    "# # Fill with zero\n",
    "# travel_time.fillna(0, inplace=True)\n",
    "# # Sort columns\n",
    "# travel_time = travel_time[sorted(travel_time.columns)]\n",
    "#\n",
    "# travel_time"
   ],
   "id": "c965c3187014c5ea",
   "outputs": [],
   "execution_count": 53
  },
  {
   "metadata": {},
   "cell_type": "markdown",
   "source": "# DI implementation",
   "id": "819bc5294050a951"
  },
  {
   "metadata": {
    "ExecuteTime": {
     "end_time": "2025-09-22T05:09:49.774845Z",
     "start_time": "2025-09-22T05:09:49.762841Z"
    }
   },
   "cell_type": "code",
   "source": [
    "def transfers_calculate(demand: pd.DataFrame) -> list[int]:\n",
    "    \"\"\"\n",
    "    For each stop, calculate the potential transfers adding the two directions.\n",
    "    \"\"\"\n",
    "    transfers_list = []\n",
    "    for i in demand.index:\n",
    "        # The transfers are the passengers traveling from before i to after i.\n",
    "        trans = demand.loc[:i-1, i+1:].values.sum()\n",
    "        # Also, the transfers are the passengers traveling from after i to before i.\n",
    "        trans += demand.loc[i+1:, :i-1].values.sum()\n",
    "        transfers_list.append(trans)\n",
    "\n",
    "    return transfers_list\n",
    "\n",
    "def max_flow_calculate(demand: pd.DataFrame) -> list[tuple[int, int]]:\n",
    "    \"\"\"\n",
    "    For each stop, calculate the maximum flow before and after, including both directions.\n",
    "    \"\"\"\n",
    "    # Calculate flow both directions in each segment\n",
    "    flow_left = []\n",
    "    flow_right = []\n",
    "    for i in range(len(demand.index)-1):\n",
    "        # Passengers traveling from before i to after i.\n",
    "        flow_l = demand.loc[:i, i+1:].values.sum()\n",
    "        flow_left.append(flow_l)\n",
    "        # Passengers traveling from after i to before i.\n",
    "        flow_r = demand.loc[i+1:, :i].values.sum()\n",
    "        flow_right.append(flow_r)\n",
    "\n",
    "    # Maximum flow by arc\n",
    "    flow_max = [max(flow_left[i], flow_right[i]) for i in range(len(flow_left))]\n",
    "    flow_max = np.array(flow_max)\n",
    "\n",
    "    # Maximum flow both side division\n",
    "    flow_max_division = [0]*len(demand.index)\n",
    "    for i in range(1, len(demand.index)-1):\n",
    "        flow_max_division[i] = (flow_max[:i].max(), flow_max[i:].max())\n",
    "\n",
    "    return flow_max_division\n",
    "\n",
    "def length_term_calculate(travel_time: pd.DataFrame, flow_max_division: list[tuple[int, int]]) -> list[int]:\n",
    "    \"\"\"\n",
    "    For each stop, calculate |l_i| + |l_i|/|l|\n",
    "    \"\"\"\n",
    "    length = [0]*len(travel_time.index)\n",
    "    l = travel_time.loc[0,:].values.sum()\n",
    "    for i in range(1, len(travel_time.index)-1):\n",
    "        # The maximum flow segment is in the right\n",
    "        if flow_max_division[i][0] < flow_max_division[i][1]:\n",
    "            li = travel_time.loc[0,i]\n",
    "        # The maximum flow segment is in the left\n",
    "        else:\n",
    "            li = travel_time.loc[i,travel_time.index[-1]]\n",
    "        # Calculate and salve\n",
    "        length[i] = li + li/l\n",
    "\n",
    "    return length\n",
    "\n",
    "def di_calculation(demand: pd.DataFrame, travel_time: pd.DataFrame, d1: float, d2: float) -> list[int]:\n",
    "    \"\"\"\n",
    "    Divisibility index for each stop.\n",
    "    \"\"\"\n",
    "    # Calculate the terms\n",
    "    transfers = transfers_calculate(demand)\n",
    "    flow_max_list = max_flow_calculate(demand)\n",
    "    flow_max = max([item for f in flow_max_list[1:-2] for item in (f[0], f[1])])\n",
    "    length = length_term_calculate(travel_time, flow_max_list)\n",
    "\n",
    "    # Calculate the DI\n",
    "    total_demand = demand.values.sum()\n",
    "    divisibility = [0]*len(demand.index)\n",
    "    for i in range(1, len(travel_time.index)-1):\n",
    "        term1 = 1 - d1*transfers[i]/total_demand\n",
    "        term2 = abs(flow_max_list[i][0] - flow_max_list[i][1]) / flow_max\n",
    "        term3 = 1 + d2*length[i]\n",
    "        divisibility[i] = term1 * term2 * term3\n",
    "\n",
    "    return divisibility"
   ],
   "id": "e3049ce8329d2d6f",
   "outputs": [],
   "execution_count": 175
  },
  {
   "metadata": {
    "ExecuteTime": {
     "end_time": "2025-09-22T05:10:14.606649Z",
     "start_time": "2025-09-22T05:10:14.592275Z"
    }
   },
   "cell_type": "code",
   "source": "transfers_calculate(demand)",
   "id": "992d1d87183aaff3",
   "outputs": [
    {
     "data": {
      "text/plain": [
       "[np.float64(0.0),\n",
       " np.float64(706.0),\n",
       " np.float64(741.0),\n",
       " np.float64(844.0),\n",
       " np.float64(963.0),\n",
       " np.float64(1097.0),\n",
       " np.float64(1100.0),\n",
       " np.float64(1162.0),\n",
       " np.float64(1056.0),\n",
       " np.float64(1324.0),\n",
       " np.float64(1446.0),\n",
       " np.float64(1451.0),\n",
       " np.float64(0.0)]"
      ]
     },
     "execution_count": 179,
     "metadata": {},
     "output_type": "execute_result"
    }
   ],
   "execution_count": 179
  },
  {
   "metadata": {
    "ExecuteTime": {
     "end_time": "2025-09-22T05:10:11.615981Z",
     "start_time": "2025-09-22T05:10:11.599722Z"
    }
   },
   "cell_type": "code",
   "source": "max_flow_calculate(demand)",
   "id": "65710803a7294e3b",
   "outputs": [
    {
     "data": {
      "text/plain": [
       "[0,\n",
       " (np.float64(588.0), np.float64(1381.0)),\n",
       " (np.float64(666.0), np.float64(1381.0)),\n",
       " (np.float64(820.0), np.float64(1381.0)),\n",
       " (np.float64(902.0), np.float64(1381.0)),\n",
       " (np.float64(1021.0), np.float64(1381.0)),\n",
       " (np.float64(1039.0), np.float64(1381.0)),\n",
       " (np.float64(1096.0), np.float64(1381.0)),\n",
       " (np.float64(1153.0), np.float64(1381.0)),\n",
       " (np.float64(1216.0), np.float64(1381.0)),\n",
       " (np.float64(1353.0), np.float64(1381.0)),\n",
       " (np.float64(1381.0), np.float64(1322.0)),\n",
       " 0]"
      ]
     },
     "execution_count": 178,
     "metadata": {},
     "output_type": "execute_result"
    }
   ],
   "execution_count": 178
  },
  {
   "metadata": {
    "ExecuteTime": {
     "end_time": "2025-09-22T05:10:05.440025Z",
     "start_time": "2025-09-22T05:10:05.426682Z"
    }
   },
   "cell_type": "code",
   "source": "length_term_calculate(travel_time, max_flow_calculate(demand))",
   "id": "87a5862fb2bb1d55",
   "outputs": [
    {
     "data": {
      "text/plain": [
       "[0,\n",
       " np.float64(0.045911949685534595),\n",
       " np.float64(0.0688679245283019),\n",
       " np.float64(0.11477987421383648),\n",
       " np.float64(0.1606918238993711),\n",
       " np.float64(0.25251572327044025),\n",
       " np.float64(0.29842767295597483),\n",
       " np.float64(0.3443396226415094),\n",
       " np.float64(0.390251572327044),\n",
       " np.float64(0.4361635220125786),\n",
       " np.float64(0.48207547169811316),\n",
       " np.float64(0.045911949685534595),\n",
       " 0]"
      ]
     },
     "execution_count": 177,
     "metadata": {},
     "output_type": "execute_result"
    }
   ],
   "execution_count": 177
  },
  {
   "metadata": {
    "ExecuteTime": {
     "end_time": "2025-09-22T05:09:57.120028Z",
     "start_time": "2025-09-22T05:09:57.102106Z"
    }
   },
   "cell_type": "code",
   "source": "di_calculation(demand, travel_time, 0.9, 0.08)",
   "id": "1d0629099661cfc8",
   "outputs": [
    {
     "data": {
      "text/plain": [
       "[0,\n",
       " np.float64(0.39184678643673776),\n",
       " np.float64(0.34568963796451196),\n",
       " np.float64(0.2530790590736936),\n",
       " np.float64(0.1979188110198927),\n",
       " np.float64(0.13367005845385624),\n",
       " np.float64(0.12709884460259152),\n",
       " np.float64(0.1003345533345624),\n",
       " np.float64(0.0887369529281148),\n",
       " np.float64(0.04942167203571138),\n",
       " np.float64(0.007251703057177323),\n",
       " np.float64(0.01466978587040327),\n",
       " 0]"
      ]
     },
     "execution_count": 176,
     "metadata": {},
     "output_type": "execute_result"
    }
   ],
   "execution_count": 176
  },
  {
   "metadata": {
    "ExecuteTime": {
     "end_time": "2025-09-22T00:40:41.783371Z",
     "start_time": "2025-09-22T00:40:41.760458Z"
    }
   },
   "cell_type": "code",
   "source": [
    "# flujo hacia la derecha\n",
    "subidas = []\n",
    "for i in demand.index:\n",
    "    subidas.append(demand.loc[i, i:].values.sum())\n",
    "\n",
    "bajadas = []\n",
    "for i in demand.index:\n",
    "    bajadas.append(demand.loc[:i, i].values.sum())\n",
    "\n",
    "flujos_explicito = pd.DataFrame({'subidas': subidas, 'bajadas':bajadas})\n",
    "flujos_explicito['subidas acumuladas'] = flujos_explicito['subidas'].cumsum()\n",
    "flujos_explicito['bajadas acumuladas'] = flujos_explicito['bajadas'].cumsum()\n",
    "flujos_explicito['capacidad'] = flujos_explicito['subidas acumuladas']-flujos_explicito['bajadas acumuladas']\n",
    "flujos_explicito"
   ],
   "id": "895a8afd8c877f93",
   "outputs": [
    {
     "data": {
      "text/plain": [
       "    subidas  bajadas  subidas acumuladas  bajadas acumuladas  capacidad\n",
       "0     588.0      0.0               588.0                 0.0      588.0\n",
       "1      79.0      1.0               667.0                 1.0      666.0\n",
       "2     165.0     11.0               832.0                12.0      820.0\n",
       "3     128.0     46.0               960.0                58.0      902.0\n",
       "4     127.0      8.0              1087.0                66.0     1021.0\n",
       "5      18.0      0.0              1105.0                66.0     1039.0\n",
       "6      64.0      7.0              1169.0                73.0     1096.0\n",
       "7      70.0     13.0              1239.0                86.0     1153.0\n",
       "8     226.0    163.0              1465.0               249.0     1216.0\n",
       "9     156.0     19.0              1621.0               268.0     1353.0\n",
       "10     67.0     39.0              1688.0               307.0     1381.0\n",
       "11     11.0     70.0              1699.0               377.0     1322.0\n",
       "12      0.0   1322.0              1699.0              1699.0        0.0"
      ],
      "text/html": [
       "<div>\n",
       "<style scoped>\n",
       "    .dataframe tbody tr th:only-of-type {\n",
       "        vertical-align: middle;\n",
       "    }\n",
       "\n",
       "    .dataframe tbody tr th {\n",
       "        vertical-align: top;\n",
       "    }\n",
       "\n",
       "    .dataframe thead th {\n",
       "        text-align: right;\n",
       "    }\n",
       "</style>\n",
       "<table border=\"1\" class=\"dataframe\">\n",
       "  <thead>\n",
       "    <tr style=\"text-align: right;\">\n",
       "      <th></th>\n",
       "      <th>subidas</th>\n",
       "      <th>bajadas</th>\n",
       "      <th>subidas acumuladas</th>\n",
       "      <th>bajadas acumuladas</th>\n",
       "      <th>capacidad</th>\n",
       "    </tr>\n",
       "  </thead>\n",
       "  <tbody>\n",
       "    <tr>\n",
       "      <th>0</th>\n",
       "      <td>588.0</td>\n",
       "      <td>0.0</td>\n",
       "      <td>588.0</td>\n",
       "      <td>0.0</td>\n",
       "      <td>588.0</td>\n",
       "    </tr>\n",
       "    <tr>\n",
       "      <th>1</th>\n",
       "      <td>79.0</td>\n",
       "      <td>1.0</td>\n",
       "      <td>667.0</td>\n",
       "      <td>1.0</td>\n",
       "      <td>666.0</td>\n",
       "    </tr>\n",
       "    <tr>\n",
       "      <th>2</th>\n",
       "      <td>165.0</td>\n",
       "      <td>11.0</td>\n",
       "      <td>832.0</td>\n",
       "      <td>12.0</td>\n",
       "      <td>820.0</td>\n",
       "    </tr>\n",
       "    <tr>\n",
       "      <th>3</th>\n",
       "      <td>128.0</td>\n",
       "      <td>46.0</td>\n",
       "      <td>960.0</td>\n",
       "      <td>58.0</td>\n",
       "      <td>902.0</td>\n",
       "    </tr>\n",
       "    <tr>\n",
       "      <th>4</th>\n",
       "      <td>127.0</td>\n",
       "      <td>8.0</td>\n",
       "      <td>1087.0</td>\n",
       "      <td>66.0</td>\n",
       "      <td>1021.0</td>\n",
       "    </tr>\n",
       "    <tr>\n",
       "      <th>5</th>\n",
       "      <td>18.0</td>\n",
       "      <td>0.0</td>\n",
       "      <td>1105.0</td>\n",
       "      <td>66.0</td>\n",
       "      <td>1039.0</td>\n",
       "    </tr>\n",
       "    <tr>\n",
       "      <th>6</th>\n",
       "      <td>64.0</td>\n",
       "      <td>7.0</td>\n",
       "      <td>1169.0</td>\n",
       "      <td>73.0</td>\n",
       "      <td>1096.0</td>\n",
       "    </tr>\n",
       "    <tr>\n",
       "      <th>7</th>\n",
       "      <td>70.0</td>\n",
       "      <td>13.0</td>\n",
       "      <td>1239.0</td>\n",
       "      <td>86.0</td>\n",
       "      <td>1153.0</td>\n",
       "    </tr>\n",
       "    <tr>\n",
       "      <th>8</th>\n",
       "      <td>226.0</td>\n",
       "      <td>163.0</td>\n",
       "      <td>1465.0</td>\n",
       "      <td>249.0</td>\n",
       "      <td>1216.0</td>\n",
       "    </tr>\n",
       "    <tr>\n",
       "      <th>9</th>\n",
       "      <td>156.0</td>\n",
       "      <td>19.0</td>\n",
       "      <td>1621.0</td>\n",
       "      <td>268.0</td>\n",
       "      <td>1353.0</td>\n",
       "    </tr>\n",
       "    <tr>\n",
       "      <th>10</th>\n",
       "      <td>67.0</td>\n",
       "      <td>39.0</td>\n",
       "      <td>1688.0</td>\n",
       "      <td>307.0</td>\n",
       "      <td>1381.0</td>\n",
       "    </tr>\n",
       "    <tr>\n",
       "      <th>11</th>\n",
       "      <td>11.0</td>\n",
       "      <td>70.0</td>\n",
       "      <td>1699.0</td>\n",
       "      <td>377.0</td>\n",
       "      <td>1322.0</td>\n",
       "    </tr>\n",
       "    <tr>\n",
       "      <th>12</th>\n",
       "      <td>0.0</td>\n",
       "      <td>1322.0</td>\n",
       "      <td>1699.0</td>\n",
       "      <td>1699.0</td>\n",
       "      <td>0.0</td>\n",
       "    </tr>\n",
       "  </tbody>\n",
       "</table>\n",
       "</div>"
      ]
     },
     "execution_count": 59,
     "metadata": {},
     "output_type": "execute_result"
    }
   ],
   "execution_count": 59
  },
  {
   "metadata": {
    "ExecuteTime": {
     "end_time": "2025-09-22T00:40:41.890157Z",
     "start_time": "2025-09-22T00:40:41.867692Z"
    }
   },
   "cell_type": "code",
   "source": [
    "# flujo hacia la izquierda\n",
    "subidas = []\n",
    "for i in demand.index:\n",
    "    subidas.append(demand.loc[i, :i].values.sum())\n",
    "\n",
    "bajadas = []\n",
    "for i in demand.index:\n",
    "    bajadas.append(demand.loc[i:, i].values.sum())\n",
    "\n",
    "flujos_explicito = pd.DataFrame({'subidas': subidas, 'bajadas':bajadas})\n",
    "flujos_explicito['subidas acumuladas'] = flujos_explicito['subidas'][::-1].cumsum()\n",
    "flujos_explicito['bajadas acumuladas'] = flujos_explicito['bajadas'][::-1].cumsum()\n",
    "flujos_explicito['capacidad'] = flujos_explicito['subidas acumuladas']-flujos_explicito['bajadas acumuladas']\n",
    "flujos_explicito"
   ],
   "id": "b21d456b8f4ba1f7",
   "outputs": [
    {
     "data": {
      "text/plain": [
       "    subidas  bajadas  subidas acumuladas  bajadas acumuladas  capacidad\n",
       "0       0.0    128.0               286.0               286.0        0.0\n",
       "1       9.0      1.0               286.0               158.0      128.0\n",
       "2      34.0      3.0               277.0               157.0      120.0\n",
       "3      19.0      7.0               243.0               154.0       89.0\n",
       "4       8.0      7.0               224.0               147.0       77.0\n",
       "5       0.0      0.0               216.0               140.0       76.0\n",
       "6       8.0     15.0               216.0               140.0       76.0\n",
       "7       4.0      6.0               208.0               125.0       83.0\n",
       "8      19.0     75.0               204.0               119.0       85.0\n",
       "9      14.0     14.0               185.0                44.0      141.0\n",
       "10      9.0     24.0               171.0                30.0      141.0\n",
       "11     16.0      6.0               162.0                 6.0      156.0\n",
       "12    146.0      0.0               146.0                 0.0      146.0"
      ],
      "text/html": [
       "<div>\n",
       "<style scoped>\n",
       "    .dataframe tbody tr th:only-of-type {\n",
       "        vertical-align: middle;\n",
       "    }\n",
       "\n",
       "    .dataframe tbody tr th {\n",
       "        vertical-align: top;\n",
       "    }\n",
       "\n",
       "    .dataframe thead th {\n",
       "        text-align: right;\n",
       "    }\n",
       "</style>\n",
       "<table border=\"1\" class=\"dataframe\">\n",
       "  <thead>\n",
       "    <tr style=\"text-align: right;\">\n",
       "      <th></th>\n",
       "      <th>subidas</th>\n",
       "      <th>bajadas</th>\n",
       "      <th>subidas acumuladas</th>\n",
       "      <th>bajadas acumuladas</th>\n",
       "      <th>capacidad</th>\n",
       "    </tr>\n",
       "  </thead>\n",
       "  <tbody>\n",
       "    <tr>\n",
       "      <th>0</th>\n",
       "      <td>0.0</td>\n",
       "      <td>128.0</td>\n",
       "      <td>286.0</td>\n",
       "      <td>286.0</td>\n",
       "      <td>0.0</td>\n",
       "    </tr>\n",
       "    <tr>\n",
       "      <th>1</th>\n",
       "      <td>9.0</td>\n",
       "      <td>1.0</td>\n",
       "      <td>286.0</td>\n",
       "      <td>158.0</td>\n",
       "      <td>128.0</td>\n",
       "    </tr>\n",
       "    <tr>\n",
       "      <th>2</th>\n",
       "      <td>34.0</td>\n",
       "      <td>3.0</td>\n",
       "      <td>277.0</td>\n",
       "      <td>157.0</td>\n",
       "      <td>120.0</td>\n",
       "    </tr>\n",
       "    <tr>\n",
       "      <th>3</th>\n",
       "      <td>19.0</td>\n",
       "      <td>7.0</td>\n",
       "      <td>243.0</td>\n",
       "      <td>154.0</td>\n",
       "      <td>89.0</td>\n",
       "    </tr>\n",
       "    <tr>\n",
       "      <th>4</th>\n",
       "      <td>8.0</td>\n",
       "      <td>7.0</td>\n",
       "      <td>224.0</td>\n",
       "      <td>147.0</td>\n",
       "      <td>77.0</td>\n",
       "    </tr>\n",
       "    <tr>\n",
       "      <th>5</th>\n",
       "      <td>0.0</td>\n",
       "      <td>0.0</td>\n",
       "      <td>216.0</td>\n",
       "      <td>140.0</td>\n",
       "      <td>76.0</td>\n",
       "    </tr>\n",
       "    <tr>\n",
       "      <th>6</th>\n",
       "      <td>8.0</td>\n",
       "      <td>15.0</td>\n",
       "      <td>216.0</td>\n",
       "      <td>140.0</td>\n",
       "      <td>76.0</td>\n",
       "    </tr>\n",
       "    <tr>\n",
       "      <th>7</th>\n",
       "      <td>4.0</td>\n",
       "      <td>6.0</td>\n",
       "      <td>208.0</td>\n",
       "      <td>125.0</td>\n",
       "      <td>83.0</td>\n",
       "    </tr>\n",
       "    <tr>\n",
       "      <th>8</th>\n",
       "      <td>19.0</td>\n",
       "      <td>75.0</td>\n",
       "      <td>204.0</td>\n",
       "      <td>119.0</td>\n",
       "      <td>85.0</td>\n",
       "    </tr>\n",
       "    <tr>\n",
       "      <th>9</th>\n",
       "      <td>14.0</td>\n",
       "      <td>14.0</td>\n",
       "      <td>185.0</td>\n",
       "      <td>44.0</td>\n",
       "      <td>141.0</td>\n",
       "    </tr>\n",
       "    <tr>\n",
       "      <th>10</th>\n",
       "      <td>9.0</td>\n",
       "      <td>24.0</td>\n",
       "      <td>171.0</td>\n",
       "      <td>30.0</td>\n",
       "      <td>141.0</td>\n",
       "    </tr>\n",
       "    <tr>\n",
       "      <th>11</th>\n",
       "      <td>16.0</td>\n",
       "      <td>6.0</td>\n",
       "      <td>162.0</td>\n",
       "      <td>6.0</td>\n",
       "      <td>156.0</td>\n",
       "    </tr>\n",
       "    <tr>\n",
       "      <th>12</th>\n",
       "      <td>146.0</td>\n",
       "      <td>0.0</td>\n",
       "      <td>146.0</td>\n",
       "      <td>0.0</td>\n",
       "      <td>146.0</td>\n",
       "    </tr>\n",
       "  </tbody>\n",
       "</table>\n",
       "</div>"
      ]
     },
     "execution_count": 60,
     "metadata": {},
     "output_type": "execute_result"
    }
   ],
   "execution_count": 60
  },
  {
   "metadata": {
    "ExecuteTime": {
     "end_time": "2025-09-22T06:32:08.879006Z",
     "start_time": "2025-09-22T06:32:08.873021Z"
    }
   },
   "cell_type": "code",
   "source": [
    "i=7\n",
    "demand.loc[i, :i-1]"
   ],
   "id": "d3c6f497b400db7f",
   "outputs": [
    {
     "data": {
      "text/plain": [
       "DESTINATION_STOP\n",
       "0    3.0\n",
       "1    0.0\n",
       "2    0.0\n",
       "3    1.0\n",
       "4    0.0\n",
       "5    0.0\n",
       "6    0.0\n",
       "Name: 7, dtype: float64"
      ]
     },
     "execution_count": 273,
     "metadata": {},
     "output_type": "execute_result"
    }
   ],
   "execution_count": 273
  },
  {
   "metadata": {},
   "cell_type": "markdown",
   "source": "# Value of the consumed resources",
   "id": "1ca2262293fa4729"
  },
  {
   "metadata": {
    "ExecuteTime": {
     "end_time": "2025-09-22T06:54:57.281698Z",
     "start_time": "2025-09-22T06:54:57.268952Z"
    }
   },
   "cell_type": "code",
   "source": [
    "def cost_users(demand: pd.DataFrame,\n",
    "               travel_time: pd.DataFrame,\n",
    "               frequency: list[float],\n",
    "               board_alight_time: float,\n",
    "               piv: float,\n",
    "               pw: float,\n",
    "               pr: float,\n",
    "               divided_nodes: list[int]) -> float:\n",
    "    \"\"\"\n",
    "    Total users cost, given the divisions of the corridor.\n",
    "    \"\"\"\n",
    "    # Transfer cost\n",
    "    transfers = np.array(transfers_calculate(demand))\n",
    "    transfers = [transfers[i] if i in divided_nodes\n",
    "                 else 0\n",
    "                 for i in range(len(demand.index))]\n",
    "    transfers_totales = sum(transfers)\n",
    "\n",
    "    # Waiting time cost\n",
    "    waiting_time = 0\n",
    "    for i in range(len(demand.index)):\n",
    "        line = find_line(divided_nodes=divided_nodes, stop=i)\n",
    "        first_boarding_right = demand.loc[i, i+1:].sum()/(2*frequency[line])\n",
    "        if i in divided_nodes:\n",
    "            boarding_due_transfers = demand.loc[:i-1, i+1:].values.sum()/(2*frequency[line]) + demand.loc[i+1:, :i-1].values.sum()/(2*frequency[line-1])\n",
    "            first_boarding_left = demand.loc[i, :i-1].sum()/(2*frequency[line-1])\n",
    "        else:\n",
    "            first_boarding_left = demand.loc[i, :i-1].sum()/(2*frequency[line])\n",
    "            boarding_due_transfers = 0\n",
    "        waiting_time += boarding_due_transfers + first_boarding_right + first_boarding_left\n",
    "\n",
    "    # Travel time cost\n",
    "    stop_state_right, stop_state_left = board_alight_calculate(demand)\n",
    "    total_travel_time = 0\n",
    "    # In-vehicle moving time\n",
    "    for i in demand.index:\n",
    "        for j in demand.columns:\n",
    "            total_travel_time += demand.loc[i,j]*travel_time.loc[i,j]\n",
    "    # In-vehicle stopped time\n",
    "    for i in demand.index:\n",
    "        line = find_line(divided_nodes=divided_nodes, stop=i)\n",
    "        # Right\n",
    "        # boarding and alighting passengers\n",
    "        boarding = stop_state_right.loc[i, 'subidas']*board_alight_time/frequency[line]\n",
    "        alight = stop_state_right.loc[i, 'bajadas']*board_alight_time/frequency[line]\n",
    "        # Passengers on board waiting\n",
    "        stopped_passengers = demand.loc[:i-1, i+1:].values.sum()\n",
    "        total_travel_time += stopped_passengers*(boarding+alight)\n",
    "        # Passengers alight\n",
    "        avr_alight_time = stop_state_right.loc[i, 'bajadas']*board_alight_time/(2*frequency[line])\n",
    "        total_travel_time += stop_state_right.loc[i, 'bajadas']*avr_alight_time\n",
    "\n",
    "        if i in divided_nodes:\n",
    "            line = line-1\n",
    "        # Left\n",
    "        # boarding and alighting passengers\n",
    "        boarding = stop_state_left.loc[i, 'subidas']*board_alight_time/frequency[line]\n",
    "        alight = stop_state_left.loc[i, 'bajadas']*board_alight_time/frequency[line]\n",
    "        # Passengers on board waiting\n",
    "        stopped_passengers = demand.loc[i+1:, :i-1].values.sum()\n",
    "        total_travel_time += stopped_passengers*(boarding+alight)\n",
    "        # Passengers alight\n",
    "        avr_alight_time = stop_state_left.loc[i, 'bajadas']*board_alight_time/(2*frequency[line])\n",
    "        total_travel_time += stop_state_left.loc[i, 'bajadas']*avr_alight_time\n",
    "\n",
    "    return total_travel_time*piv + waiting_time*pw + transfers_totales*pr\n",
    "\n",
    "def board_alight_calculate(demand: pd.DataFrame) -> tuple[pd.DataFrame, pd.DataFrame]:\n",
    "    \"\"\"\n",
    "    It calculares the board and alight for each stop, for both directions.\n",
    "    \"\"\"\n",
    "\n",
    "    # flow through the right\n",
    "    subidas = []\n",
    "    for i in demand.index:\n",
    "        subidas.append(demand.loc[i, i:].values.sum())\n",
    "\n",
    "    bajadas = []\n",
    "    for i in demand.index:\n",
    "        bajadas.append(demand.loc[:i, i].values.sum())\n",
    "\n",
    "    flujos_explicito_right = pd.DataFrame({'subidas': subidas, 'bajadas':bajadas})\n",
    "\n",
    "    # flow through the left\n",
    "    subidas = []\n",
    "    for i in demand.index:\n",
    "        subidas.append(demand.loc[i, :i].values.sum())\n",
    "\n",
    "    bajadas = []\n",
    "    for i in demand.index:\n",
    "        bajadas.append(demand.loc[i:, i].values.sum())\n",
    "\n",
    "    flujos_explicito_left = pd.DataFrame({'subidas': subidas, 'bajadas':bajadas})\n",
    "\n",
    "    return flujos_explicito_right, flujos_explicito_left\n",
    "\n",
    "def find_line(divided_nodes: list[int], stop: int) -> int:\n",
    "    \"\"\"\n",
    "    Given the nodes where the corridor is divided, it gives you the line where a given stop belongs. The lines are numbered from 0 and growing to the right.\n",
    "    \"\"\"\n",
    "    if len(divided_nodes) == 0:\n",
    "        return 0\n",
    "    for i in range(len(divided_nodes)):\n",
    "        if stop < divided_nodes[i]:\n",
    "            return i\n",
    "    return len(divided_nodes)\n",
    "\n",
    "def cost_operators(demand: pd.DataFrame,\n",
    "                   travel_time: pd.DataFrame,\n",
    "                   frequency: list[float],\n",
    "                   board_alight_time: float,\n",
    "                   c0: float,\n",
    "                   c1: float,\n",
    "                   divided_nodes: list[int]) -> float:\n",
    "    \"\"\"\n",
    "    It calculates the operator cost.\n",
    "    \"\"\"\n",
    "    # Calculate flow both directions in each segment\n",
    "    flow_left = []\n",
    "    flow_right = []\n",
    "    for i in range(len(demand.index)-1):\n",
    "        # Passengers traveling from before i to after i.\n",
    "        flow_l = demand.loc[:i, i+1:].values.sum()\n",
    "        flow_left.append(flow_l)\n",
    "        # Passengers traveling from after i to before i.\n",
    "        flow_r = demand.loc[i+1:, :i].values.sum()\n",
    "        flow_right.append(flow_r)\n",
    "    # Maximum flow by arc\n",
    "    flow_max = [max(flow_left[i], flow_right[i]) for i in range(len(flow_left))]\n",
    "    flow_max = np.array(flow_max)\n",
    "\n",
    "    # Calculate transfers\n",
    "    transfers = np.array(transfers_calculate(demand))\n",
    "\n",
    "    total_cost = 0\n",
    "    # Calculate the cost for each line\n",
    "    for i in range(len(frequency)):\n",
    "\n",
    "        # Line terminal stops\n",
    "        # Only one line\n",
    "        if len(frequency) == 1:\n",
    "            first_node = 0\n",
    "            last_node = len(demand.index)-1\n",
    "        # First (not only) line\n",
    "        elif i == 0:\n",
    "            first_node = 0\n",
    "            last_node = divided_nodes[i]\n",
    "        # Other than first\n",
    "        else:\n",
    "            first_node = divided_nodes[i-1]\n",
    "            if i == len(frequency) - 1:\n",
    "                last_node = demand.index[-1]\n",
    "            else:\n",
    "                last_node = divided_nodes[i]\n",
    "\n",
    "        # Maximum flow in the line\n",
    "        flow_max_line = flow_max[first_node:last_node].max()\n",
    "        # Capacity\n",
    "        capacity = flow_max_line/frequency[i]\n",
    "\n",
    "        # Cycle time\n",
    "        total_travel_time = travel_time.loc[first_node, last_node]*2\n",
    "        stop_state_right, stop_state_left = board_alight_calculate(demand)\n",
    "        boarding_time = (stop_state_left.loc[first_node+1: last_node, 'subidas'].values.sum() +\n",
    "                         stop_state_right.loc[first_node: last_node-1, 'subidas'].values.sum())\n",
    "        alight_time = (stop_state_left.loc[first_node: last_node-1, 'bajadas'].values.sum() +\n",
    "                         stop_state_right.loc[first_node+1: last_node, 'bajadas'].values.sum())\n",
    "        extra_boarding_time_transfers = transfers[first_node]\n",
    "        cycle_time = total_travel_time + (boarding_time + alight_time + extra_boarding_time_transfers)*board_alight_time/frequency[i]\n",
    "\n",
    "        # Fleet size\n",
    "        fleet = cycle_time*frequency[i]\n",
    "\n",
    "        # Add cost\n",
    "        total_cost += fleet*(c0 + c1*capacity)\n",
    "\n",
    "    return total_cost\n",
    "\n",
    "def vrc(demand: pd.DataFrame,\n",
    "        travel_time: pd.DataFrame,\n",
    "        frequency: list[float],\n",
    "        divided_nodes: list[int],\n",
    "        piv: float,\n",
    "        pw: float,\n",
    "        pr: float,\n",
    "        board_alight_time: float,\n",
    "        c0: float,\n",
    "        c1: float) -> float:\n",
    "    \"\"\"\n",
    "    It calculates the VRC.\n",
    "    \"\"\"\n",
    "\n",
    "    users = cost_users(demand=demand,\n",
    "                       travel_time=travel_time,\n",
    "                       frequency=frequency,\n",
    "                       board_alight_time=board_alight_time,\n",
    "                       piv=piv,\n",
    "                       pw=pw,\n",
    "                       pr=pr,\n",
    "                       divided_nodes=divided_nodes)\n",
    "\n",
    "    operators = cost_operators(demand=demand,\n",
    "                               travel_time=travel_time,\n",
    "                               frequency=frequency,\n",
    "                               board_alight_time=board_alight_time,\n",
    "                               c0 = c0,\n",
    "                               c1 = c1,\n",
    "                               divided_nodes=divided_nodes)\n",
    "\n",
    "    return users + operators\n",
    "\n",
    "def vrc_fix(demand: pd.DataFrame,\n",
    "            travel_time: pd.DataFrame,\n",
    "            piv: float,\n",
    "            board_alight_time: float,\n",
    "            c0: float,\n",
    "            c1: float) -> float:\n",
    "    \"\"\"\n",
    "    Calculates the VRC components that doesn't vary with the frequency or the line divisions.\n",
    "    \"\"\"\n",
    "\n",
    "    # Users travel time in motion\n",
    "    travel_time_motion = 0\n",
    "    # In-vehicle moving time\n",
    "    for i in demand.index:\n",
    "        for j in demand.columns:\n",
    "            travel_time_motion += demand.loc[i,j]*travel_time.loc[i,j]\n",
    "    users_vrc_fix = travel_time_motion*piv\n",
    "\n",
    "    # Operators\n",
    "    cicle_time_motion = travel_time.loc[0, travel_time.index[-1]]\n",
    "    total_demand = demand.values.sum()\n",
    "    # Calculate flow both directions in each segment\n",
    "    flow_left = []\n",
    "    flow_right = []\n",
    "    for i in range(len(demand.index)-1):\n",
    "        # Passengers traveling from before i to after i.\n",
    "        flow_l = demand.loc[:i, i+1:].values.sum()\n",
    "        flow_left.append(flow_l)\n",
    "        # Passengers traveling from after i to before i.\n",
    "        flow_r = demand.loc[i+1:, :i].values.sum()\n",
    "        flow_right.append(flow_r)\n",
    "    # Minimum flow by arc\n",
    "    flow_min = min(flow_left + flow_right)\n",
    "    operators_vrc_fix = 2*board_alight_time*c0*total_demand + cicle_time_motion*flow_min*c1\n",
    "\n",
    "    return users_vrc_fix + operators_vrc_fix\n",
    "\n",
    "def vrc_optimization(demand: pd.DataFrame,\n",
    "                     travel_time: pd.DataFrame,\n",
    "                     divided_nodes: list[int],\n",
    "                     piv: float,\n",
    "                     pw: float,\n",
    "                     pr: float,\n",
    "                     board_alight_time: float,\n",
    "                     c0: float,\n",
    "                     c1: float) -> tuple[tuple[float], float]:\n",
    "    \"\"\"\n",
    "    It calculates the optimal frequency to minimize the VRC.\n",
    "    \"\"\"\n",
    "    def vrc_auxiliar(freq):\n",
    "        vrc_value = vrc(demand=demand,\n",
    "                        travel_time=travel_time,\n",
    "                        frequency=freq,\n",
    "                        divided_nodes=divided_nodes,\n",
    "                        piv=piv,\n",
    "                        pw=pw,\n",
    "                        pr=pr,\n",
    "                        board_alight_time=board_alight_time,\n",
    "                        c0=c0,\n",
    "                        c1=c1)\n",
    "\n",
    "        return vrc_value\n",
    "\n",
    "    # Minimization\n",
    "    initial_freq = [30]*(len(divided_nodes)+1)\n",
    "    bounds = [(1, 300)]*len(initial_freq)\n",
    "    result = minimize(vrc_auxiliar, initial_freq, bounds=bounds)\n",
    "\n",
    "    optimal_freq = result.x\n",
    "    optimal_vrc = result.fun\n",
    "\n",
    "    return optimal_freq, optimal_vrc"
   ],
   "id": "936daead7573c8bc",
   "outputs": [],
   "execution_count": 285
  },
  {
   "metadata": {},
   "cell_type": "markdown",
   "source": "# Numerical calculations",
   "id": "f5dd2b6a8c0ca601"
  },
  {
   "metadata": {
    "ExecuteTime": {
     "end_time": "2025-09-22T06:57:04.339831Z",
     "start_time": "2025-09-22T06:57:04.335942Z"
    }
   },
   "cell_type": "code",
   "source": [
    "c0 = 8.61\n",
    "c1 = 0.3\n",
    "piv = 2.74\n",
    "pw = 5.48\n",
    "pr = 16*piv / 60\n",
    "t = 0.0416 / 60\n",
    "\n",
    "plt.rcdefaults()\n",
    "plt.rcParams.update({'font.size': 14})"
   ],
   "id": "7429ebe81045fb22",
   "outputs": [],
   "execution_count": 294
  },
  {
   "metadata": {
    "ExecuteTime": {
     "end_time": "2025-09-22T06:57:11.298563Z",
     "start_time": "2025-09-22T06:57:04.349257Z"
    }
   },
   "cell_type": "code",
   "source": [
    "# Figures data\n",
    "\n",
    "# DI values per stop\n",
    "di_values = di_calculation(demand=demand,\n",
    "                           travel_time=travel_time,\n",
    "                           d1=0.9,\n",
    "                           d2=0.08)\n",
    "\n",
    "# City fixed cost\n",
    "vrc_fix_cost = vrc_fix(demand=demand,\n",
    "                       travel_time=travel_time,\n",
    "                       piv=piv,\n",
    "                       board_alight_time=t,\n",
    "                       c0=c0,\n",
    "                       c1=c1)\n",
    "\n",
    "# Optimal VRC and frequencies per divisions\n",
    "vrc_optimal_divisions = []\n",
    "freq_optimal_divisions = []\n",
    "for i in range(1, len(demand.index)-1):\n",
    "    fo, vo  = vrc_optimization(demand=demand,\n",
    "                                  travel_time=travel_time,\n",
    "                                  divided_nodes=[i],\n",
    "                                  piv=piv,\n",
    "                                  pw=pw,\n",
    "                                  pr=pr,\n",
    "                                  board_alight_time=t,\n",
    "                                  c0=c0,\n",
    "                                  c1=c1)\n",
    "    vrc_optimal_divisions.append(vo)\n",
    "    freq_optimal_divisions.append(fo)\n",
    "\n",
    "# Optimal complete line\n",
    "freq_optimal_complete, vrc_optimal_complete = vrc_optimization(demand=demand,\n",
    "                                                                travel_time=travel_time,\n",
    "                                                                divided_nodes=[],\n",
    "                                                                piv=piv,\n",
    "                                                                pw=pw,\n",
    "                                                                pr=pr,\n",
    "                                                                board_alight_time=t,\n",
    "                                                                c0=c0,\n",
    "                                                                c1=c1)"
   ],
   "id": "5b9b2e125e7f8d39",
   "outputs": [],
   "execution_count": 295
  },
  {
   "metadata": {
    "ExecuteTime": {
     "end_time": "2025-09-22T06:07:52.195248Z",
     "start_time": "2025-09-22T06:07:52.181839Z"
    }
   },
   "cell_type": "code",
   "source": [
    "cost_operators(demand=demand,\n",
    "               travel_time=travel_time,\n",
    "               frequency=[freq_optimal_complete],\n",
    "               board_alight_time=t,\n",
    "               c0 = c0,\n",
    "               c1 = c1,\n",
    "               divided_nodes=[])"
   ],
   "id": "d0cca45f68c00a97",
   "outputs": [
    {
     "data": {
      "text/plain": [
       "array([669.12502023])"
      ]
     },
     "execution_count": 253,
     "metadata": {},
     "output_type": "execute_result"
    }
   ],
   "execution_count": 253
  },
  {
   "metadata": {
    "ExecuteTime": {
     "end_time": "2025-09-22T06:07:53.221522Z",
     "start_time": "2025-09-22T06:07:53.204107Z"
    }
   },
   "cell_type": "code",
   "source": [
    "cost_operators(demand=demand,\n",
    "               travel_time=travel_time,\n",
    "               frequency=freq_optimal_divisions[8],\n",
    "               board_alight_time=t,\n",
    "               c0 = c0,\n",
    "               c1 = c1,\n",
    "               divided_nodes=[8])"
   ],
   "id": "1f5be79cbf7ab3fa",
   "outputs": [
    {
     "data": {
      "text/plain": [
       "np.float64(680.0774081971574)"
      ]
     },
     "execution_count": 254,
     "metadata": {},
     "output_type": "execute_result"
    }
   ],
   "execution_count": 254
  },
  {
   "metadata": {
    "ExecuteTime": {
     "end_time": "2025-09-22T06:55:09.075462Z",
     "start_time": "2025-09-22T06:55:09.057934Z"
    }
   },
   "cell_type": "code",
   "source": [
    "cost_users(demand=demand,\n",
    "                       travel_time=travel_time,\n",
    "                       frequency=[freq_optimal_complete],\n",
    "                       board_alight_time=t,\n",
    "                       piv=piv,\n",
    "                       pw=pw,\n",
    "                       pr=pr,\n",
    "                       divided_nodes=[])"
   ],
   "id": "84b7e42ab63255a5",
   "outputs": [
    {
     "data": {
      "text/plain": [
       "array([1509.19007809])"
      ]
     },
     "execution_count": 288,
     "metadata": {},
     "output_type": "execute_result"
    }
   ],
   "execution_count": 288
  },
  {
   "metadata": {
    "ExecuteTime": {
     "end_time": "2025-09-22T06:55:34.777249Z",
     "start_time": "2025-09-22T06:55:34.761400Z"
    }
   },
   "cell_type": "code",
   "source": [
    "cost_users(demand=demand,\n",
    "                       travel_time=travel_time,\n",
    "                       frequency=freq_optimal_divisions[8],\n",
    "                       board_alight_time=t,\n",
    "                       piv=piv,\n",
    "                       pw=pw,\n",
    "                       pr=pr,\n",
    "                       divided_nodes=[8])"
   ],
   "id": "18a0dc309b310b1e",
   "outputs": [
    {
     "data": {
      "text/plain": [
       "np.float64(2278.696846800096)"
      ]
     },
     "execution_count": 291,
     "metadata": {},
     "output_type": "execute_result"
    }
   ],
   "execution_count": 291
  },
  {
   "metadata": {
    "ExecuteTime": {
     "end_time": "2025-09-22T05:32:14.202023Z",
     "start_time": "2025-09-22T05:32:13.927738Z"
    }
   },
   "cell_type": "code",
   "source": [
    "# Plot\n",
    "\n",
    "# Datos de ejemplo\n",
    "categories = ['None'] + [f'{i}' for i in range(1, len(demand.index)-1)]\n",
    "values = [vrc_optimal_complete] + vrc_optimal_divisions\n",
    "\n",
    "# Crear gráfico de barras\n",
    "fig, ax1 = plt.subplots()\n",
    "ax1.bar(categories, values, color='deepskyblue')\n",
    "\n",
    "# Añadir título y etiquetas\n",
    "ax1.set_xlabel('Line structure (divided in stop...)')\n",
    "ax1.set_ylabel('Optimal VRC')\n",
    "ax1.set_ylim(bottom=vrc_fix_cost)\n",
    "\n",
    "\n",
    "# Crear eje secundario\n",
    "ax2 = ax1.twinx()\n",
    "ax2.plot(categories[1:], di_values[1:-1], color='rebeccapurple', marker='o', label='DI')\n",
    "ax2.set_ylabel('Divisibility index', color='rebeccapurple')\n",
    "ax2.tick_params(axis='y', labelcolor='rebeccapurple')\n",
    "\n",
    "# Mostrar el gráfico\n",
    "plt.title('Optimal VRC by line structure')\n",
    "# plt.savefig('Optimal VRC by line structure.png', bbox_inches = 'tight')\n",
    "plt.show()\n"
   ],
   "id": "6c791a1a47feda5d",
   "outputs": [
    {
     "data": {
      "text/plain": [
       "<Figure size 640x480 with 2 Axes>"
      ],
      "image/png": "[encoded data removed]"
     },
     "metadata": {},
     "output_type": "display_data"
    }
   ],
   "execution_count": 211
  },
  {
   "metadata": {
    "ExecuteTime": {
     "end_time": "2025-09-22T07:03:30.149051Z",
     "start_time": "2025-09-22T07:03:29.914861Z"
    }
   },
   "cell_type": "code",
   "source": [
    "# Datos de ejemplo\n",
    "total_demand = demand.values.sum()\n",
    "categories = [f'{i}' for i in range(1, len(demand.index)-1)]\n",
    "values = vrc_optimal_divisions\n",
    "\n",
    "# Ordenar los datos por valor en orden ascendente\n",
    "sorted_data = sorted(zip(categories, values, di_values[1:-1]), key=lambda x: x[2], reverse=True)\n",
    "categories, values, di_values_sorted = zip(*sorted_data)\n",
    "# Agregar estructura sin divisiones\n",
    "categories = ['None'] + list(categories)\n",
    "values = [vrc_optimal_complete] + list(values)\n",
    "values = values/total_demand\n",
    "\n",
    "# Crear gráfico de barras\n",
    "fig, ax1 = plt.subplots()\n",
    "ax1.bar(categories, values, color='deepskyblue')\n",
    "\n",
    "# Añadir título y etiquetas\n",
    "ax1.set_xlabel('Node where the line is divided')\n",
    "ax1.set_ylabel('Optimal VRC [USD per passenger]')\n",
    "ax1.set_ylim(bottom=vrc_fix_cost/total_demand)\n",
    "\n",
    "# Crear eje secundario\n",
    "ax2 = ax1.twinx()\n",
    "ax2.plot(categories[1:], di_values_sorted, color='rebeccapurple', marker='o')\n",
    "ax2.set_ylabel('Divisibility index', color='rebeccapurple')\n",
    "ax2.tick_params(axis='y', labelcolor='rebeccapurple')\n",
    "\n",
    "# Mostrar el gráfico\n",
    "# plt.title('Optimal VRC by line structure')\n",
    "plt.savefig('Optimal VRC by line structure sorted.png', bbox_inches = 'tight')\n",
    "plt.show()\n"
   ],
   "id": "563fe8b21364fd33",
   "outputs": [
    {
     "data": {
      "text/plain": [
       "<Figure size 640x480 with 2 Axes>"
      ],
      "image/png": "[encoded data removed]"
     },
     "metadata": {},
     "output_type": "display_data"
    }
   ],
   "execution_count": 303
  },
  {
   "metadata": {
    "ExecuteTime": {
     "end_time": "2025-09-22T05:13:25.146204Z",
     "start_time": "2025-09-22T05:13:24.955666Z"
    }
   },
   "cell_type": "code",
   "source": [
    "x = [i for i in range(1, len(demand.index)-1)]\n",
    "freq_optimal_divisions_left = [f[0] for f in freq_optimal_divisions]\n",
    "freq_optimal_divisions_right = [f[1] for f in freq_optimal_divisions]\n",
    "\n",
    "fig, ax = plt.subplots()\n",
    "ax.plot(x, freq_optimal_divisions_left, marker='o', label='Frequency left-line')\n",
    "ax.plot(x, freq_optimal_divisions_right, marker='o', label='Frequency right-line')\n",
    "ax.plot(x, [freq_optimal_complete]*len(x), marker='o', label='Frequency complete line')\n",
    "\n",
    "ax.set_xlabel('Line structure (divided in stop...)')\n",
    "ax.set_ylabel('Optimal frequency')\n",
    "ax.legend()\n",
    "\n",
    "plt.title('Optimal frequency by line structure')\n",
    "plt.grid()\n",
    "# plt.savefig('Optimal frequency by line structure.png', bbox_inches = 'tight')\n",
    "plt.show()"
   ],
   "id": "a7bc19bb2371ce03",
   "outputs": [
    {
     "data": {
      "text/plain": [
       "<Figure size 640x480 with 1 Axes>"
      ],
      "image/png": "[encoded data removed]"
     },
     "metadata": {},
     "output_type": "display_data"
    }
   ],
   "execution_count": 190
  },
  {
   "metadata": {
    "ExecuteTime": {
     "end_time": "2025-09-19T08:37:47.607963700Z",
     "start_time": "2025-09-19T01:27:57.664908Z"
    }
   },
   "cell_type": "code",
   "source": "# Fleet size",
   "id": "a4b57acd581e919a",
   "outputs": [],
   "execution_count": 121
  },
  {
   "metadata": {
    "ExecuteTime": {
     "end_time": "2025-09-19T08:37:47.607963700Z",
     "start_time": "2025-09-19T01:27:57.688115Z"
    }
   },
   "cell_type": "code",
   "source": [
    "# Calculate transfers\n",
    "transfers = transfers_calculate(demand=demand)\n",
    "categories = [i for i in range(len(transfers))]\n",
    "\n",
    "fig, ax = plt.subplots()\n",
    "ax.bar(categories, transfers)\n",
    "ax.set_xlabel('Stop')\n",
    "ax.set_ylabel('Potencial transfers')\n",
    "\n",
    "plt.title('Potencial transfers by stop')\n",
    "plt.xticks(categories)\n",
    "plt.show()"
   ],
   "id": "cac51e5b4d854eba",
   "outputs": [
    {
     "data": {
      "text/plain": [
       "<Figure size 640x480 with 1 Axes>"
      ],
      "image/png": "[encoded data removed]"
     },
     "metadata": {},
     "output_type": "display_data"
    }
   ],
   "execution_count": 122
  },
  {
   "metadata": {},
   "cell_type": "markdown",
   "source": "# Modified demand",
   "id": "3e3d5df80f7262f3"
  },
  {
   "metadata": {
    "ExecuteTime": {
     "end_time": "2025-09-22T05:39:53.534499Z",
     "start_time": "2025-09-22T05:39:53.520213Z"
    }
   },
   "cell_type": "code",
   "source": [
    "demand_modified = demand.copy()\n",
    "factor = 15\n",
    "\n",
    "# Increase the demand in the line 0 to 8\n",
    "demand_modified.loc[:8, :8] = demand.loc[:8, :8]*factor\n",
    "# Increase the alight at 8\n",
    "demand_modified.loc[:, 8] = demand.loc[:, 8]*factor\n",
    "# Decrease the transfers at 8\n",
    "demand_modified.loc[:7, 9:] = demand.loc[:7, 9:]/factor\n",
    "# Decrease the demand in the line 8 to 12\n",
    "demand_modified.loc[8:, 8:] = demand.loc[8:, 8:]/factor\n",
    "\n",
    "normalization_coef = demand.values.sum()/demand_modified.values.sum()\n",
    "demand_modified = (demand_modified*normalization_coef).round().astype(int)"
   ],
   "id": "2a9d32a28bd49482",
   "outputs": [],
   "execution_count": 235
  },
  {
   "metadata": {
    "ExecuteTime": {
     "end_time": "2025-09-22T07:43:16.231673Z",
     "start_time": "2025-09-22T07:43:16.219328Z"
    }
   },
   "cell_type": "code",
   "source": [
    "demand_modified = demand.copy()\n",
    "factor = 0.9\n",
    "factor_shift = 0.6\n",
    "\n",
    "# Increase the alight at 8\n",
    "for i in range(8):\n",
    "    demand_modified.loc[i, 8] = demand.loc[i, 8] + demand.loc[i, 9:12].sum()*factor\n",
    "    demand_modified.loc[i, 9:12] = demand.loc[i, 9:12] - demand.loc[i, 9:12]*factor\n",
    "for i in range(9, 13):\n",
    "    demand_modified.loc[i, 8] = demand_modified.loc[i, 8] + demand.loc[i, 0:7].sum()*factor\n",
    "    demand_modified.loc[i, 0:7] = demand_modified.loc[i, 0:7] - demand.loc[i, 0:7]*factor\n",
    "\n",
    "# Shift the demand after 8\n",
    "shift_value = 4\n",
    "for i in range(8, 13):\n",
    "    for j in range(8, i-1):\n",
    "        demand_modified.loc[i-shift_value,j-shift_value] = demand.loc[i-shift_value,j-shift_value] + demand.loc[i,j]*factor_shift\n",
    "        demand_modified.loc[i,j] = demand.loc[i,j] - demand.loc[i,j]*factor_shift\n",
    "\n",
    "# for i in range(9, 13):\n",
    "    for j in range(i+1, 13):\n",
    "        demand_modified.loc[i-shift_value,j-shift_value] = demand.loc[i-shift_value,j-shift_value] + demand.loc[i,j]*factor_shift\n",
    "        demand_modified.loc[i,j] = demand.loc[i,j] - demand.loc[i,j]*factor_shift\n"
   ],
   "id": "73e1491f8b34d937",
   "outputs": [],
   "execution_count": 444
  },
  {
   "metadata": {
    "ExecuteTime": {
     "end_time": "2025-09-22T07:42:33.251583Z",
     "start_time": "2025-09-22T07:42:33.244469Z"
    }
   },
   "cell_type": "code",
   "source": "demand.loc[8:, 8:].values.sum()",
   "id": "b19753939efc748b",
   "outputs": [
    {
     "data": {
      "text/plain": [
       "np.float64(579.0)"
      ]
     },
     "execution_count": 439,
     "metadata": {},
     "output_type": "execute_result"
    }
   ],
   "execution_count": 439
  },
  {
   "metadata": {
    "ExecuteTime": {
     "end_time": "2025-09-22T07:42:33.756937Z",
     "start_time": "2025-09-22T07:42:33.752673Z"
    }
   },
   "cell_type": "code",
   "source": "demand_modified.loc[8:, 8:].values.sum()",
   "id": "af6ecf73e75ac72d",
   "outputs": [
    {
     "data": {
      "text/plain": [
       "np.float64(76.80000000000001)"
      ]
     },
     "execution_count": 440,
     "metadata": {},
     "output_type": "execute_result"
    }
   ],
   "execution_count": 440
  },
  {
   "metadata": {
    "ExecuteTime": {
     "end_time": "2025-09-22T07:46:35.440359Z",
     "start_time": "2025-09-22T07:46:35.428994Z"
    }
   },
   "cell_type": "code",
   "source": "board_alight_calculate(demand)[0]",
   "id": "2140987537d93f7",
   "outputs": [
    {
     "data": {
      "text/plain": [
       "    subidas  bajadas\n",
       "0     588.0      0.0\n",
       "1      79.0      1.0\n",
       "2     165.0     11.0\n",
       "3     128.0     46.0\n",
       "4     127.0      8.0\n",
       "5      18.0      0.0\n",
       "6      64.0      7.0\n",
       "7      70.0     13.0\n",
       "8     226.0    163.0\n",
       "9     156.0     19.0\n",
       "10     67.0     39.0\n",
       "11     11.0     70.0\n",
       "12      0.0   1322.0"
      ],
      "text/html": [
       "<div>\n",
       "<style scoped>\n",
       "    .dataframe tbody tr th:only-of-type {\n",
       "        vertical-align: middle;\n",
       "    }\n",
       "\n",
       "    .dataframe tbody tr th {\n",
       "        vertical-align: top;\n",
       "    }\n",
       "\n",
       "    .dataframe thead th {\n",
       "        text-align: right;\n",
       "    }\n",
       "</style>\n",
       "<table border=\"1\" class=\"dataframe\">\n",
       "  <thead>\n",
       "    <tr style=\"text-align: right;\">\n",
       "      <th></th>\n",
       "      <th>subidas</th>\n",
       "      <th>bajadas</th>\n",
       "    </tr>\n",
       "  </thead>\n",
       "  <tbody>\n",
       "    <tr>\n",
       "      <th>0</th>\n",
       "      <td>588.0</td>\n",
       "      <td>0.0</td>\n",
       "    </tr>\n",
       "    <tr>\n",
       "      <th>1</th>\n",
       "      <td>79.0</td>\n",
       "      <td>1.0</td>\n",
       "    </tr>\n",
       "    <tr>\n",
       "      <th>2</th>\n",
       "      <td>165.0</td>\n",
       "      <td>11.0</td>\n",
       "    </tr>\n",
       "    <tr>\n",
       "      <th>3</th>\n",
       "      <td>128.0</td>\n",
       "      <td>46.0</td>\n",
       "    </tr>\n",
       "    <tr>\n",
       "      <th>4</th>\n",
       "      <td>127.0</td>\n",
       "      <td>8.0</td>\n",
       "    </tr>\n",
       "    <tr>\n",
       "      <th>5</th>\n",
       "      <td>18.0</td>\n",
       "      <td>0.0</td>\n",
       "    </tr>\n",
       "    <tr>\n",
       "      <th>6</th>\n",
       "      <td>64.0</td>\n",
       "      <td>7.0</td>\n",
       "    </tr>\n",
       "    <tr>\n",
       "      <th>7</th>\n",
       "      <td>70.0</td>\n",
       "      <td>13.0</td>\n",
       "    </tr>\n",
       "    <tr>\n",
       "      <th>8</th>\n",
       "      <td>226.0</td>\n",
       "      <td>163.0</td>\n",
       "    </tr>\n",
       "    <tr>\n",
       "      <th>9</th>\n",
       "      <td>156.0</td>\n",
       "      <td>19.0</td>\n",
       "    </tr>\n",
       "    <tr>\n",
       "      <th>10</th>\n",
       "      <td>67.0</td>\n",
       "      <td>39.0</td>\n",
       "    </tr>\n",
       "    <tr>\n",
       "      <th>11</th>\n",
       "      <td>11.0</td>\n",
       "      <td>70.0</td>\n",
       "    </tr>\n",
       "    <tr>\n",
       "      <th>12</th>\n",
       "      <td>0.0</td>\n",
       "      <td>1322.0</td>\n",
       "    </tr>\n",
       "  </tbody>\n",
       "</table>\n",
       "</div>"
      ]
     },
     "execution_count": 449,
     "metadata": {},
     "output_type": "execute_result"
    }
   ],
   "execution_count": 449
  },
  {
   "metadata": {
    "ExecuteTime": {
     "end_time": "2025-09-22T07:44:11.783238Z",
     "start_time": "2025-09-22T07:44:11.774040Z"
    }
   },
   "cell_type": "code",
   "source": "max",
   "id": "86582168f91939a3",
   "outputs": [
    {
     "data": {
      "text/plain": [
       "    subidas  bajadas  subidas acumuladas  bajadas acumuladas  capacidad\n",
       "0       0.0    128.0               286.0               286.0        0.0\n",
       "1       9.0      1.0               286.0               158.0      128.0\n",
       "2      34.0      3.0               277.0               157.0      120.0\n",
       "3      19.0      7.0               243.0               154.0       89.0\n",
       "4       8.0      7.0               224.0               147.0       77.0\n",
       "5       0.0      0.0               216.0               140.0       76.0\n",
       "6       8.0     15.0               216.0               140.0       76.0\n",
       "7       4.0      6.0               208.0               125.0       83.0\n",
       "8      19.0     75.0               204.0               119.0       85.0\n",
       "9      14.0     14.0               185.0                44.0      141.0\n",
       "10      9.0     24.0               171.0                30.0      141.0\n",
       "11     16.0      6.0               162.0                 6.0      156.0\n",
       "12    146.0      0.0               146.0                 0.0      146.0"
      ],
      "text/html": [
       "<div>\n",
       "<style scoped>\n",
       "    .dataframe tbody tr th:only-of-type {\n",
       "        vertical-align: middle;\n",
       "    }\n",
       "\n",
       "    .dataframe tbody tr th {\n",
       "        vertical-align: top;\n",
       "    }\n",
       "\n",
       "    .dataframe thead th {\n",
       "        text-align: right;\n",
       "    }\n",
       "</style>\n",
       "<table border=\"1\" class=\"dataframe\">\n",
       "  <thead>\n",
       "    <tr style=\"text-align: right;\">\n",
       "      <th></th>\n",
       "      <th>subidas</th>\n",
       "      <th>bajadas</th>\n",
       "      <th>subidas acumuladas</th>\n",
       "      <th>bajadas acumuladas</th>\n",
       "      <th>capacidad</th>\n",
       "    </tr>\n",
       "  </thead>\n",
       "  <tbody>\n",
       "    <tr>\n",
       "      <th>0</th>\n",
       "      <td>0.0</td>\n",
       "      <td>128.0</td>\n",
       "      <td>286.0</td>\n",
       "      <td>286.0</td>\n",
       "      <td>0.0</td>\n",
       "    </tr>\n",
       "    <tr>\n",
       "      <th>1</th>\n",
       "      <td>9.0</td>\n",
       "      <td>1.0</td>\n",
       "      <td>286.0</td>\n",
       "      <td>158.0</td>\n",
       "      <td>128.0</td>\n",
       "    </tr>\n",
       "    <tr>\n",
       "      <th>2</th>\n",
       "      <td>34.0</td>\n",
       "      <td>3.0</td>\n",
       "      <td>277.0</td>\n",
       "      <td>157.0</td>\n",
       "      <td>120.0</td>\n",
       "    </tr>\n",
       "    <tr>\n",
       "      <th>3</th>\n",
       "      <td>19.0</td>\n",
       "      <td>7.0</td>\n",
       "      <td>243.0</td>\n",
       "      <td>154.0</td>\n",
       "      <td>89.0</td>\n",
       "    </tr>\n",
       "    <tr>\n",
       "      <th>4</th>\n",
       "      <td>8.0</td>\n",
       "      <td>7.0</td>\n",
       "      <td>224.0</td>\n",
       "      <td>147.0</td>\n",
       "      <td>77.0</td>\n",
       "    </tr>\n",
       "    <tr>\n",
       "      <th>5</th>\n",
       "      <td>0.0</td>\n",
       "      <td>0.0</td>\n",
       "      <td>216.0</td>\n",
       "      <td>140.0</td>\n",
       "      <td>76.0</td>\n",
       "    </tr>\n",
       "    <tr>\n",
       "      <th>6</th>\n",
       "      <td>8.0</td>\n",
       "      <td>15.0</td>\n",
       "      <td>216.0</td>\n",
       "      <td>140.0</td>\n",
       "      <td>76.0</td>\n",
       "    </tr>\n",
       "    <tr>\n",
       "      <th>7</th>\n",
       "      <td>4.0</td>\n",
       "      <td>6.0</td>\n",
       "      <td>208.0</td>\n",
       "      <td>125.0</td>\n",
       "      <td>83.0</td>\n",
       "    </tr>\n",
       "    <tr>\n",
       "      <th>8</th>\n",
       "      <td>19.0</td>\n",
       "      <td>75.0</td>\n",
       "      <td>204.0</td>\n",
       "      <td>119.0</td>\n",
       "      <td>85.0</td>\n",
       "    </tr>\n",
       "    <tr>\n",
       "      <th>9</th>\n",
       "      <td>14.0</td>\n",
       "      <td>14.0</td>\n",
       "      <td>185.0</td>\n",
       "      <td>44.0</td>\n",
       "      <td>141.0</td>\n",
       "    </tr>\n",
       "    <tr>\n",
       "      <th>10</th>\n",
       "      <td>9.0</td>\n",
       "      <td>24.0</td>\n",
       "      <td>171.0</td>\n",
       "      <td>30.0</td>\n",
       "      <td>141.0</td>\n",
       "    </tr>\n",
       "    <tr>\n",
       "      <th>11</th>\n",
       "      <td>16.0</td>\n",
       "      <td>6.0</td>\n",
       "      <td>162.0</td>\n",
       "      <td>6.0</td>\n",
       "      <td>156.0</td>\n",
       "    </tr>\n",
       "    <tr>\n",
       "      <th>12</th>\n",
       "      <td>146.0</td>\n",
       "      <td>0.0</td>\n",
       "      <td>146.0</td>\n",
       "      <td>0.0</td>\n",
       "      <td>146.0</td>\n",
       "    </tr>\n",
       "  </tbody>\n",
       "</table>\n",
       "</div>"
      ]
     },
     "execution_count": 448,
     "metadata": {},
     "output_type": "execute_result"
    }
   ],
   "execution_count": 448
  },
  {
   "metadata": {
    "ExecuteTime": {
     "end_time": "2025-09-22T07:40:56.783347Z",
     "start_time": "2025-09-22T07:40:56.621732Z"
    }
   },
   "cell_type": "code",
   "source": [
    "# Pasar la demanda a intervalos\n",
    "data = demand_modified.values.flatten()\n",
    "deciles = np.arange(0, max(data), max(data)//9)\n",
    "\n",
    "def assign_category(x):\n",
    "    for index, item in enumerate(deciles):\n",
    "        if x < item:\n",
    "            return index-1\n",
    "    return len(deciles)-1\n",
    "\n",
    "demand_grouped = demand_modified.map(assign_category)\n",
    "\n",
    "ax = sns.heatmap(demand_grouped, linewidths=.5, linecolor='lightgray', cbar_kws={\"boundaries\": [-0.5, 0,  0.5,  1.5,  2.5,  3.5,  4.5,  5.5,  6.5,  7.5, 9.5]}, cmap='rocket_r')\n",
    "\n",
    "# Manually specify colorbar labelling after it's been generated\n",
    "colorbar = ax.collections[0].colorbar\n",
    "colorbar.set_ticks([-0.25, 0.25, 1, 2, 3, 4, 5, 6, 7, 8.5])\n",
    "colorbar.set_ticklabels([f'[{int(deciles[i])}, {int(deciles[i+1])}]' for i in range(len(deciles)-1)] + [f'[{int(deciles[-1])}, {int(demand.max().max())}]'])\n",
    "\n",
    "# X - Y axis labels\n",
    "ax.set_ylabel('Origin')\n",
    "ax.set_xlabel('Destination')\n",
    "\n",
    "# Only y-axis labels need their rotation set, x-axis labels already have a rotation of 0\n",
    "_, labels = plt.yticks()\n",
    "plt.setp(labels, rotation=0)\n",
    "plt.title('Origin-destination matrix Canberra modified')\n",
    "\n",
    "# plt.savefig('OD Canberra modified.png', dpi=300)\n",
    "plt.show()\n"
   ],
   "id": "896c6620321f798c",
   "outputs": [
    {
     "data": {
      "text/plain": [
       "<Figure size 640x480 with 2 Axes>"
      ],
      "image/png": "[encoded data removed]"
     },
     "metadata": {},
     "output_type": "display_data"
    }
   ],
   "execution_count": 430
  },
  {
   "metadata": {
    "ExecuteTime": {
     "end_time": "2025-09-22T07:41:05.197480Z",
     "start_time": "2025-09-22T07:40:59.781908Z"
    }
   },
   "cell_type": "code",
   "source": [
    "# Figures data\n",
    "\n",
    "# DI values per stop\n",
    "di_values = di_calculation(demand=demand_modified,\n",
    "                           travel_time=travel_time,\n",
    "                           d1=0.9,\n",
    "                           d2=0.08)\n",
    "\n",
    "# City fixed cost\n",
    "vrc_fix_cost = vrc_fix(demand=demand_modified,\n",
    "                       travel_time=travel_time,\n",
    "                       piv=piv,\n",
    "                       board_alight_time=t,\n",
    "                       c0=c0,\n",
    "                       c1=c1)\n",
    "\n",
    "# Optimal VRC and frequencies per divisions\n",
    "vrc_optimal_divisions = []\n",
    "freq_optimal_divisions = []\n",
    "for i in range(1, len(demand_modified.index)-1):\n",
    "    fo, vo  = vrc_optimization(demand=demand_modified,\n",
    "                                  travel_time=travel_time,\n",
    "                                  divided_nodes=[i],\n",
    "                                  piv=piv,\n",
    "                                  pw=pw,\n",
    "                                  pr=pr,\n",
    "                                  board_alight_time=t,\n",
    "                                  c0=c0,\n",
    "                                  c1=c1)\n",
    "    vrc_optimal_divisions.append(vo)\n",
    "    freq_optimal_divisions.append(fo)\n",
    "\n",
    "# Optimal complete line\n",
    "freq_optimal_complete, vrc_optimal_complete = vrc_optimization(demand=demand_modified,\n",
    "                                                                travel_time=travel_time,\n",
    "                                                                divided_nodes=[],\n",
    "                                                                piv=piv,\n",
    "                                                                pw=pw,\n",
    "                                                                pr=pr,\n",
    "                                                                board_alight_time=t,\n",
    "                                                                c0=c0,\n",
    "                                                                c1=c1)"
   ],
   "id": "c682e759edf1a2be",
   "outputs": [],
   "execution_count": 431
  },
  {
   "metadata": {
    "ExecuteTime": {
     "end_time": "2025-09-22T07:38:39.965097Z",
     "start_time": "2025-09-22T07:38:39.960177Z"
    }
   },
   "cell_type": "code",
   "source": "max_flow_calculate(demand_modified)[8]\n",
   "id": "603ef5991db7f653",
   "outputs": [
    {
     "data": {
      "text/plain": [
       "(np.float64(1192.2999999999997), np.float64(270.4))"
      ]
     },
     "execution_count": 418,
     "metadata": {},
     "output_type": "execute_result"
    }
   ],
   "execution_count": 418
  },
  {
   "metadata": {
    "ExecuteTime": {
     "end_time": "2025-09-22T07:39:25.977443Z",
     "start_time": "2025-09-22T07:39:25.971779Z"
    }
   },
   "cell_type": "code",
   "source": "transfers_calculate(demand_modified)[8]",
   "id": "fafc95aaa60f7533",
   "outputs": [
    {
     "data": {
      "text/plain": [
       "np.float64(105.59999999999997)"
      ]
     },
     "execution_count": 421,
     "metadata": {},
     "output_type": "execute_result"
    }
   ],
   "execution_count": 421
  },
  {
   "metadata": {
    "ExecuteTime": {
     "end_time": "2025-09-22T07:38:09.190747Z",
     "start_time": "2025-09-22T07:38:09.181330Z"
    }
   },
   "cell_type": "code",
   "source": [
    "cost_operators(demand=demand_modified,\n",
    "               travel_time=travel_time,\n",
    "               frequency=[freq_optimal_complete],\n",
    "               board_alight_time=t,\n",
    "               c0 = c0,\n",
    "               c1 = c1,\n",
    "               divided_nodes=[])"
   ],
   "id": "dc739139fae919a4",
   "outputs": [
    {
     "data": {
      "text/plain": [
       "array([569.36370282])"
      ]
     },
     "execution_count": 415,
     "metadata": {},
     "output_type": "execute_result"
    }
   ],
   "execution_count": 415
  },
  {
   "metadata": {
    "ExecuteTime": {
     "end_time": "2025-09-22T07:38:09.981052Z",
     "start_time": "2025-09-22T07:38:09.969725Z"
    }
   },
   "cell_type": "code",
   "source": [
    "cost_operators(demand=demand_modified,\n",
    "               travel_time=travel_time,\n",
    "               frequency=freq_optimal_divisions[8],\n",
    "               board_alight_time=t,\n",
    "               c0 = c0,\n",
    "               c1 = c1,\n",
    "               divided_nodes=[8])"
   ],
   "id": "8aa1b6a3e60decd9",
   "outputs": [
    {
     "data": {
      "text/plain": [
       "np.float64(500.9480235701593)"
      ]
     },
     "execution_count": 416,
     "metadata": {},
     "output_type": "execute_result"
    }
   ],
   "execution_count": 416
  },
  {
   "metadata": {
    "ExecuteTime": {
     "end_time": "2025-09-22T07:36:26.846033Z",
     "start_time": "2025-09-22T07:36:26.830547Z"
    }
   },
   "cell_type": "code",
   "source": [
    "cost_users(demand=demand_modified,\n",
    "                       travel_time=travel_time,\n",
    "                       frequency=[freq_optimal_complete],\n",
    "                       board_alight_time=t,\n",
    "                       piv=piv,\n",
    "                       pw=pw,\n",
    "                       pr=pr,\n",
    "                       divided_nodes=[])"
   ],
   "id": "a9d96629f7e2c64d",
   "outputs": [
    {
     "data": {
      "text/plain": [
       "array([1106.35375877])"
      ]
     },
     "execution_count": 406,
     "metadata": {},
     "output_type": "execute_result"
    }
   ],
   "execution_count": 406
  },
  {
   "metadata": {
    "ExecuteTime": {
     "end_time": "2025-09-22T07:36:29.310383Z",
     "start_time": "2025-09-22T07:36:29.294245Z"
    }
   },
   "cell_type": "code",
   "source": [
    "cost_users(demand=demand_modified,\n",
    "                       travel_time=travel_time,\n",
    "                       frequency=freq_optimal_divisions[8],\n",
    "                       board_alight_time=t,\n",
    "                       piv=piv,\n",
    "                       pw=pw,\n",
    "                       pr=pr,\n",
    "                       divided_nodes=[8])"
   ],
   "id": "1edcbb0c2115e859",
   "outputs": [
    {
     "data": {
      "text/plain": [
       "np.float64(1187.1998997720907)"
      ]
     },
     "execution_count": 407,
     "metadata": {},
     "output_type": "execute_result"
    }
   ],
   "execution_count": 407
  },
  {
   "metadata": {
    "ExecuteTime": {
     "end_time": "2025-09-22T07:06:36.809509Z",
     "start_time": "2025-09-22T07:06:36.688518Z"
    }
   },
   "cell_type": "code",
   "source": [
    "# Plot\n",
    "\n",
    "# Datos de ejemplo\n",
    "categories = ['None'] + [f'{i}' for i in range(1, len(demand_modified.index)-1)]\n",
    "values = [vrc_optimal_complete] + vrc_optimal_divisions\n",
    "\n",
    "# Crear gráfico de barras\n",
    "fig, ax1 = plt.subplots()\n",
    "ax1.bar(categories, values, color='deepskyblue')\n",
    "\n",
    "# Añadir título y etiquetas\n",
    "ax1.set_xlabel('Line structure (divided in stop...)')\n",
    "ax1.set_ylabel('Optimal VRC')\n",
    "ax1.set_ylim(bottom=vrc_fix_cost)\n",
    "\n",
    "\n",
    "# Crear eje secundario\n",
    "ax2 = ax1.twinx()\n",
    "ax2.plot(categories[1:], di_values[1:-1], color='rebeccapurple', marker='o', label='DI')\n",
    "ax2.set_ylabel('Divisibility index', color='rebeccapurple')\n",
    "ax2.tick_params(axis='y', labelcolor='rebeccapurple')\n",
    "\n",
    "# Mostrar el gráfico\n",
    "plt.title('Optimal VRC by line structure')\n",
    "# plt.savefig('Optimal VRC by line structure modified.png', bbox_inches = 'tight')\n",
    "plt.show()"
   ],
   "id": "2d3dcd16688dfa05",
   "outputs": [
    {
     "data": {
      "text/plain": [
       "<Figure size 640x480 with 2 Axes>"
      ],
      "image/png": "[encoded data removed]"
     },
     "metadata": {},
     "output_type": "display_data"
    }
   ],
   "execution_count": 313
  },
  {
   "metadata": {
    "ExecuteTime": {
     "end_time": "2025-09-22T07:41:05.770596Z",
     "start_time": "2025-09-22T07:41:05.651007Z"
    }
   },
   "cell_type": "code",
   "source": [
    "# Datos de ejemplo\n",
    "total_demand = demand_modified.values.sum()\n",
    "categories = [f'{i}' for i in range(1, len(demand_modified.index)-1)]\n",
    "values = vrc_optimal_divisions\n",
    "\n",
    "# Ordenar los datos por valor en orden ascendente\n",
    "sorted_data = sorted(zip(categories, values, di_values[1:-1]), key=lambda x: x[2], reverse=True)\n",
    "categories, values, di_values_sorted = zip(*sorted_data)\n",
    "# Agregar estructura sin divisiones\n",
    "categories = ['None'] + list(categories)\n",
    "values = [vrc_optimal_complete] + list(values)\n",
    "values = values/total_demand\n",
    "\n",
    "# Crear gráfico de barras\n",
    "fig, ax1 = plt.subplots()\n",
    "ax1.bar(categories, values, color='deepskyblue')\n",
    "\n",
    "# Añadir título y etiquetas\n",
    "ax1.set_xlabel('Line structure (divided in stop...)')\n",
    "ax1.set_ylabel('Optimal VRC')\n",
    "ax1.set_ylim(bottom=vrc_fix_cost/total_demand)\n",
    "\n",
    "# Crear eje secundario\n",
    "ax2 = ax1.twinx()\n",
    "ax2.plot(categories[1:], di_values_sorted, color='rebeccapurple', marker='o')\n",
    "ax2.set_ylabel('Divisibility index', color='rebeccapurple')\n",
    "ax2.tick_params(axis='y', labelcolor='rebeccapurple')\n",
    "\n",
    "# Mostrar el gráfico\n",
    "plt.title('Optimal VRC by line structure')\n",
    "# plt.savefig('Optimal VRC by line structure sorted modified.png', bbox_inches = 'tight')\n",
    "plt.show()"
   ],
   "id": "91df32537b8b0bb4",
   "outputs": [
    {
     "data": {
      "text/plain": [
       "<Figure size 640x480 with 2 Axes>"
      ],
      "image/png": "[encoded data removed]"
     },
     "metadata": {},
     "output_type": "display_data"
    }
   ],
   "execution_count": 432
  },
  {
   "metadata": {
    "ExecuteTime": {
     "end_time": "2025-09-22T07:41:10.128932Z",
     "start_time": "2025-09-22T07:41:10.125390Z"
    }
   },
   "cell_type": "code",
   "source": "vrc_optimal_divisions[8]",
   "id": "2082515398e32594",
   "outputs": [
    {
     "data": {
      "text/plain": [
       "np.float64(1796.6325840046857)"
      ]
     },
     "execution_count": 433,
     "metadata": {},
     "output_type": "execute_result"
    }
   ],
   "execution_count": 433
  },
  {
   "metadata": {
    "ExecuteTime": {
     "end_time": "2025-09-22T07:41:14.747590Z",
     "start_time": "2025-09-22T07:41:14.744305Z"
    }
   },
   "cell_type": "code",
   "source": "vrc_optimal_complete",
   "id": "53a031f652511055",
   "outputs": [
    {
     "data": {
      "text/plain": [
       "np.float64(1538.7938773187786)"
      ]
     },
     "execution_count": 434,
     "metadata": {},
     "output_type": "execute_result"
    }
   ],
   "execution_count": 434
  },
  {
   "metadata": {},
   "cell_type": "code",
   "outputs": [],
   "execution_count": null,
   "source": "",
   "id": "d06bef2d6d83339"
  }
 ],
 "metadata": {
  "kernelspec": {
   "display_name": "Python 3",
   "language": "python",
   "name": "python3"
  },
  "language_info": {
   "codemirror_mode": {
    "name": "ipython",
    "version": 2
   },
   "file_extension": ".py",
   "mimetype": "text/x-python",
   "name": "python",
   "nbconvert_exporter": "python",
   "pygments_lexer": "ipython2",
   "version": "2.7.6"
  }
 },
 "nbformat": 4,
 "nbformat_minor": 5
}
