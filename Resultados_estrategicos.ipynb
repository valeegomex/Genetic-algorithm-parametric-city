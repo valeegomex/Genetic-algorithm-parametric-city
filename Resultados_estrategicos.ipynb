{
 "cells": [
  {
   "cell_type": "code",
   "execution_count": 12,
   "metadata": {
    "collapsed": true,
    "ExecuteTime": {
     "end_time": "2023-07-08T02:41:34.947658900Z",
     "start_time": "2023-07-08T02:41:34.910897200Z"
    }
   },
   "outputs": [],
   "source": [
    "# Importamos los módulos de sidermit\n",
    "\n",
    "from sidermit.city import Graph, Demand\n",
    "from sidermit.optimization import Optimizer\n",
    "from sidermit.publictransportsystem import TransportMode\n",
    "from sidermit.publictransportsystem import TransportNetwork\n",
    "from sidermit.publictransportsystem import passenger\n",
    "\n",
    "# Importamos los módulos de otras librerías\n",
    "\n",
    "import pandas as pd\n",
    "import numpy as np\n",
    "import time"
   ]
  },
  {
   "cell_type": "code",
   "execution_count": 13,
   "outputs": [],
   "source": [
    "# build city\n",
    "graph_obj = Graph.build_from_parameters(n=6, l=10, g=1.8, p=1)\n",
    "passenger_obj =  passenger.Passenger(va=4, pv=2.74, pw=5.48, pa=0, pt=16, spv=2.74, spw=5.48, spa=0, spt=16)\n",
    "bus_obj=  TransportMode(name='bus', bya=0, co=8.61 , c1=0.15, c2=0, v=20, t=2.5, fmax=150, kmax=160, theta=0.5, tat=0, d=1, fini=12)"
   ],
   "metadata": {
    "collapsed": false,
    "ExecuteTime": {
     "end_time": "2023-07-08T02:41:35.271025700Z",
     "start_time": "2023-07-08T02:41:35.252413800Z"
    }
   }
  },
  {
   "cell_type": "code",
   "execution_count": 14,
   "outputs": [],
   "source": [
    "# build a network without routes\n",
    "network_obj = TransportNetwork(graph_obj)\n",
    "\n",
    "circular_route = network_obj.get_circular_routes(mode_obj=bus_obj)\n",
    "diametral_route = network_obj.get_diametral_routes(mode_obj=bus_obj, jump=3, short=True, express=False)\n",
    "feeder_route = network_obj.get_feeder_routes(mode_obj=bus_obj)\n",
    "radial_route = network_obj.get_radial_routes(mode_obj=bus_obj, short=False, express=False)\n",
    "\n",
    "# to add diametral and circular routes to transport network\n",
    "for route in diametral_route:\n",
    "    network_obj.add_route(route)\n",
    "for route in circular_route:\n",
    "    network_obj.add_route(route)\n",
    "for route in feeder_route:\n",
    "    network_obj.add_route(route)"
   ],
   "metadata": {
    "collapsed": false,
    "ExecuteTime": {
     "end_time": "2023-07-08T02:45:14.693568500Z",
     "start_time": "2023-07-08T02:45:14.661677300Z"
    }
   }
  },
  {
   "cell_type": "code",
   "execution_count": 15,
   "outputs": [
    {
     "name": "stdout",
     "output_type": "stream",
     "text": [
      "DS3_bus_1\n",
      "DS3_bus_2\n",
      "DS3_bus_3\n",
      "CIR_I_bus\n",
      "CIR_R_bus\n",
      "F_bus_1\n",
      "F_bus_2\n",
      "F_bus_3\n",
      "F_bus_4\n",
      "F_bus_5\n",
      "F_bus_6\n"
     ]
    }
   ],
   "source": [
    "# get all routes in network:obj\n",
    "routes = network_obj.get_routes()\n",
    "for route in routes:\n",
    "    print(route.id)"
   ],
   "metadata": {
    "collapsed": false,
    "ExecuteTime": {
     "end_time": "2023-07-08T02:45:15.305112800Z",
     "start_time": "2023-07-08T02:45:15.258871900Z"
    }
   }
  },
  {
   "cell_type": "code",
   "execution_count": 16,
   "outputs": [
    {
     "name": "stderr",
     "output_type": "stream",
     "text": [
      "INFO:sidermit.optimization.optimizer:Internal optimization\n",
      "\tSuccess: True\n",
      "\tStatus: 1\n",
      "\tMessage: `gtol` termination condition is satisfied.\n",
      "\tnew_f: [17.05432994 17.05432994 17.05433547  7.80135281  7.85617809  6.19340036\n",
      "  6.19340043  6.19343691  6.19340344  6.19340984  6.19340984]\n",
      "\tConstrain violation: 0.0\n",
      "\tVRC: 16504.858557104817\n",
      "INFO:sidermit.optimization.optimizer:f_norm_distance: 58.345003626708646\n",
      "INFO:sidermit.optimization.optimizer:Internal optimization\n",
      "\tSuccess: True\n",
      "\tStatus: 1\n",
      "\tMessage: `gtol` termination condition is satisfied.\n",
      "\tnew_f: [17.05432994 17.05432994 17.05433547  7.80135281  7.85617809  6.19340036\n",
      "  6.19340043  6.19343691  6.19340344  6.19340984  6.19340984]\n",
      "\tConstrain violation: 0.0\n",
      "\tVRC: 16504.858557104817\n",
      "INFO:sidermit.optimization.optimizer:f_norm_distance: 0.0\n",
      "INFO:sidermit.optimization.optimizer:\n",
      "\n",
      "Optimization Results\n",
      "Success: True\n",
      "Status: 1\n",
      "Message: `gtol` termination condition is satisfied.\n",
      "Max constrain violation: 0.0\n",
      "VRC: 16504.858557104817\n",
      "\n",
      "Frequency information [veh/hr]: \n",
      "\tDS3_bus_1: 17.05\n",
      "\tDS3_bus_2: 17.05\n",
      "\tDS3_bus_3: 17.05\n",
      "\tCIR_I_bus: 7.80\n",
      "\tCIR_R_bus: 7.86\n",
      "\tF_bus_1: 6.19\n",
      "\tF_bus_2: 6.19\n",
      "\tF_bus_3: 6.19\n",
      "\tF_bus_4: 6.19\n",
      "\tF_bus_5: 6.19\n",
      "\tF_bus_6: 6.19\n"
     ]
    }
   ],
   "source": [
    "demand_obj = Demand.build_from_parameters(graph_obj, y=6000, a=0.2, alpha=0.3, beta=0.6) # Define demand\n",
    "opt_obj = Optimizer.network_optimization(graph_obj, demand_obj, passenger_obj, network_obj, max_number_of_iteration=5, tolerance=0.1)"
   ],
   "metadata": {
    "collapsed": false,
    "ExecuteTime": {
     "end_time": "2023-07-08T02:45:18.142953500Z",
     "start_time": "2023-07-08T02:45:17.200520800Z"
    }
   }
  },
  {
   "cell_type": "code",
   "execution_count": 17,
   "outputs": [
    {
     "name": "stdout",
     "output_type": "stream",
     "text": [
      "VRC con lineas diametrales y circular 8896.118496414207, 3 zonas\n",
      "VRC con lineas feeder y circular 8900.592822122, 3 zonas\n",
      "VRC con lineas feeder 8449.955, 3 zonas\n",
      "VRC con lineas feeder y circular 11073.3949 , 4 zonas\n",
      "VRC con lineas diametrales y circular 11679.06826 , 4 zonas\n",
      "VRC con lineas diametrales y circular 17354.2475 , 6 zonas\n"
     ]
    }
   ],
   "source": [
    "print('VRC con lineas diametrales y circular 8896.118496414207, 3 zonas')\n",
    "print('VRC con lineas feeder y circular 8900.592822122, 3 zonas')\n",
    "print('VRC con lineas feeder 8449.955, 3 zonas')\n",
    "\n",
    "print('VRC con lineas feeder y circular 11073.3949 , 4 zonas')\n",
    "print('VRC con lineas diametrales y circular 11679.06826 , 4 zonas')\n",
    "\n",
    "print('VRC con lineas diametrales y circular 17354.2475 , 6 zonas')\n",
    "print('VRC con lineas feeder y circular 16504.8585 , 6 zonas')"
   ],
   "metadata": {
    "collapsed": false
   }
  }
 ],
 "metadata": {
  "kernelspec": {
   "display_name": "Python 3",
   "language": "python",
   "name": "python3"
  },
  "language_info": {
   "codemirror_mode": {
    "name": "ipython",
    "version": 2
   },
   "file_extension": ".py",
   "mimetype": "text/x-python",
   "name": "python",
   "nbconvert_exporter": "python",
   "pygments_lexer": "ipython2",
   "version": "2.7.6"
  }
 },
 "nbformat": 4,
 "nbformat_minor": 0
}