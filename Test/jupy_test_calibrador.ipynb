{
 "cells": [
  {
   "cell_type": "code",
   "execution_count": 3,
   "metadata": {
    "collapsed": true,
    "ExecuteTime": {
     "end_time": "2023-07-12T20:20:58.837451800Z",
     "start_time": "2023-07-12T20:20:58.803713700Z"
    }
   },
   "outputs": [],
   "source": [
    "import pandas as pd\n",
    "import numpy as np\n",
    "from AlgoritmoGenetico.Operadores.calibrador import Calibrador\n",
    "from sidermit.city import Graph\n",
    "from sidermit.publictransportsystem import TransportMode, passenger"
   ]
  },
  {
   "cell_type": "code",
   "execution_count": 4,
   "outputs": [],
   "source": [
    "n, L, g,  P = 4, 10, 1.8, 1\n",
    "Y = n*1000\n",
    "tmode = TransportMode(name='bus', bya=0, co=8.61 , c1=0.15, c2=0, v=20, t=2.5, fmax=150, kmax=160, theta=0.5, tat=0, d=1, fini=12)\n",
    "passenger_obj = passenger.Passenger(va=4, pv=2.74, pw=5.48, pa=0, pt=16, spv=2.74, spw=5.48, spa=0, spt=16)\n",
    "graph_obj = Graph.build_from_parameters(n=n, l=L, g=g, p=P)\n",
    "\n",
    "calibrador = Calibrador(n=n, graph_obj=graph_obj, tmode=tmode, passenger_obj=passenger_obj, Y=Y, L=L, build=False)\n",
    "\n",
    "# frontera = calibrador.obtener_frontera()\n",
    "# error = calibrador.error_prediccion(d1=0.8, d2=0.1, umbral=0.54, frontera=frontera)\n",
    "\n",
    "frontera = pd.read_csv('FronteraN4.csv')\n",
    "edl_completa = pd.read_csv('EDL_completaN4.csv')\n",
    "edl_dividida = pd.read_csv('EDL_divididaN4.csv')\n",
    "\n",
    "calibrador.set_edl_compelta(edl_completa)\n",
    "calibrador.set_edl_dividida(edl_dividida)\n",
    "\n",
    "# calibrador.error_prediccion(0.8, 0.1, 0.56, frontera)\n",
    "\n",
    "terminos_optimos = calibrador.calibrar_frontera(frontera)\n",
    "# print(terminos_optimos)\n"
   ],
   "metadata": {
    "collapsed": false,
    "ExecuteTime": {
     "end_time": "2023-07-12T20:21:02.188805Z",
     "start_time": "2023-07-12T20:20:59.405434200Z"
    }
   }
  },
  {
   "cell_type": "code",
   "execution_count": 5,
   "outputs": [
    {
     "data": {
      "text/plain": "array([0.0226486 , 0.24418634, 0.72320651])"
     },
     "execution_count": 5,
     "metadata": {},
     "output_type": "execute_result"
    }
   ],
   "source": [
    "terminos_optimos"
   ],
   "metadata": {
    "collapsed": false,
    "ExecuteTime": {
     "end_time": "2023-07-12T20:21:02.238166900Z",
     "start_time": "2023-07-12T20:21:02.199386Z"
    }
   }
  },
  {
   "cell_type": "code",
   "execution_count": 19,
   "outputs": [
    {
     "data": {
      "text/plain": "0.0"
     },
     "execution_count": 19,
     "metadata": {},
     "output_type": "execute_result"
    }
   ],
   "source": [
    "calibrador.error_prediccion(0.8, 0.2, 0.54, frontera)"
   ],
   "metadata": {
    "collapsed": false,
    "ExecuteTime": {
     "end_time": "2023-07-12T20:20:13.745376800Z",
     "start_time": "2023-07-12T20:20:13.707216400Z"
    }
   }
  }
 ],
 "metadata": {
  "kernelspec": {
   "display_name": "Python 3",
   "language": "python",
   "name": "python3"
  },
  "language_info": {
   "codemirror_mode": {
    "name": "ipython",
    "version": 2
   },
   "file_extension": ".py",
   "mimetype": "text/x-python",
   "name": "python",
   "nbconvert_exporter": "python",
   "pygments_lexer": "ipython2",
   "version": "2.7.6"
  }
 },
 "nbformat": 4,
 "nbformat_minor": 0
}
