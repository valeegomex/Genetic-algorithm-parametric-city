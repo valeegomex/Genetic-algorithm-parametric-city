{
 "cells": [
  {
   "cell_type": "code",
   "execution_count": 1,
   "metadata": {
    "collapsed": true,
    "ExecuteTime": {
     "end_time": "2023-08-09T21:54:46.042681200Z",
     "start_time": "2023-08-09T21:54:45.235878700Z"
    }
   },
   "outputs": [],
   "source": [
    "import pandas as pd\n",
    "import numpy as np\n",
    "import seaborn as sns\n",
    "import matplotlib.pyplot as plt\n",
    "from AlgoritmoGenetico.Operadores.calibrador import Calibrador\n",
    "from sidermit.city import Graph\n",
    "from sidermit.publictransportsystem import TransportMode, passenger"
   ]
  },
  {
   "cell_type": "code",
   "execution_count": 2,
   "outputs": [],
   "source": [
    "n, L, g,  P = 6, 10, 1.8, 1\n",
    "Y = n*1000\n",
    "tmode = TransportMode(name='bus', bya=0, co=8.61 , c1=0.15, c2=0, v=20, t=2.5, fmax=150, kmax=160, theta=0.5, tat=0, d=1, fini=12)\n",
    "passenger_obj = passenger.Passenger(va=4, pv=2.74, pw=5.48, pa=0, pt=16, spv=2.74, spw=5.48, spa=0, spt=16)\n",
    "graph_obj = Graph.build_from_parameters(n=n, l=L, g=g, p=P)"
   ],
   "metadata": {
    "collapsed": false,
    "ExecuteTime": {
     "end_time": "2023-08-09T21:54:46.060228400Z",
     "start_time": "2023-08-09T21:54:46.048686800Z"
    }
   }
  },
  {
   "cell_type": "code",
   "execution_count": 3,
   "outputs": [],
   "source": [
    "calibrador = Calibrador(n=n, graph_obj=graph_obj, tmode=tmode, passenger_obj=passenger_obj, Y=Y, L=L, build=False)"
   ],
   "metadata": {
    "collapsed": false,
    "ExecuteTime": {
     "end_time": "2023-08-09T21:54:46.087516900Z",
     "start_time": "2023-08-09T21:54:46.062232400Z"
    }
   }
  },
  {
   "cell_type": "code",
   "execution_count": 4,
   "outputs": [],
   "source": [
    "edl_completa = pd.read_csv('edl_completa.csv')\n",
    "edl_dividida = pd.read_csv('edl_dividida.csv')\n",
    "\n",
    "calibrador.set_edl_compelta(edl_completa)\n",
    "calibrador.set_edl_dividida(edl_dividida)"
   ],
   "metadata": {
    "collapsed": false,
    "ExecuteTime": {
     "end_time": "2023-08-09T21:54:46.127988400Z",
     "start_time": "2023-08-09T21:54:46.078955500Z"
    }
   }
  },
  {
   "cell_type": "code",
   "execution_count": 42,
   "outputs": [
    {
     "data": {
      "text/plain": "     Unnamed: 0  CIR_I_bus  CIR_R_bus    F_bus_1    F_bus_2    F_bus_3  \\\n89           89  13.739363  13.969238  10.349782  10.349774  10.349782   \n90           90  12.735762  12.926852  10.349974  10.349975  10.349991   \n91           91  11.610260  11.764006  10.350307  10.350305  10.350298   \n92           92  10.295500  10.411456  10.349419  10.349411  10.349415   \n93           93   8.660678   8.732952  10.349564  10.349565  10.349565   \n94           94   6.358542   6.389872  10.349594  10.349580  10.349604   \n216         216        NaN        NaN        NaN        NaN        NaN   \n217         217        NaN        NaN        NaN        NaN        NaN   \n218         218        NaN        NaN        NaN        NaN        NaN   \n219         219        NaN        NaN        NaN        NaN        NaN   \n\n       F_bus_4    F_bus_5    F_bus_6  DS3_bus_1  DS3_bus_2  DS3_bus_3  alpha  \\\n89   10.349785  10.349771  10.349771  14.207639  14.207648  14.207643    0.4   \n90   10.349991  10.349984  10.349953  14.334116  14.334112  14.334118    0.4   \n91   10.350298  10.350293  10.350317  14.529641  14.529646  14.529650    0.4   \n92   10.349420  10.349409  10.349409  14.824764  14.824779  14.824774    0.4   \n93   10.349565  10.349566  10.349558  15.265218  15.265219  15.265211    0.4   \n94   10.349588  10.349582  10.349568  15.938254  15.938332  15.938213    0.4   \n216        NaN        NaN        NaN        NaN        NaN        NaN    0.4   \n217        NaN        NaN        NaN        NaN        NaN        NaN    0.4   \n218        NaN        NaN        NaN        NaN        NaN        NaN    0.4   \n219        NaN        NaN        NaN        NaN        NaN        NaN    0.4   \n\n     beta    a           VRC  factor_carga  transbordos  largo_lineas  EDL_id  \n89    0.0  0.5  27303.001135      0.256410     2.815386          0.35       1  \n90    0.1  0.5  26188.448070      0.266667     2.454646          0.35       1  \n91    0.2  0.5  25041.972432      0.277778     2.064744          0.35       1  \n92    0.3  0.5  23848.447924      0.289855     1.638185          0.35       1  \n93    0.4  0.5  22580.206259      0.303030     1.164594          0.35       1  \n94    0.5  0.5  21176.310139      0.317460     0.627421          0.35       1  \n216   0.6  0.5           NaN           NaN          NaN           NaN       1  \n217   0.7  0.5           NaN           NaN          NaN           NaN       1  \n218   0.8  0.5           NaN           NaN          NaN           NaN       1  \n219   0.9  0.5           NaN           NaN          NaN           NaN       1  ",
      "text/html": "<div>\n<style scoped>\n    .dataframe tbody tr th:only-of-type {\n        vertical-align: middle;\n    }\n\n    .dataframe tbody tr th {\n        vertical-align: top;\n    }\n\n    .dataframe thead th {\n        text-align: right;\n    }\n</style>\n<table border=\"1\" class=\"dataframe\">\n  <thead>\n    <tr style=\"text-align: right;\">\n      <th></th>\n      <th>Unnamed: 0</th>\n      <th>CIR_I_bus</th>\n      <th>CIR_R_bus</th>\n      <th>F_bus_1</th>\n      <th>F_bus_2</th>\n      <th>F_bus_3</th>\n      <th>F_bus_4</th>\n      <th>F_bus_5</th>\n      <th>F_bus_6</th>\n      <th>DS3_bus_1</th>\n      <th>DS3_bus_2</th>\n      <th>DS3_bus_3</th>\n      <th>alpha</th>\n      <th>beta</th>\n      <th>a</th>\n      <th>VRC</th>\n      <th>factor_carga</th>\n      <th>transbordos</th>\n      <th>largo_lineas</th>\n      <th>EDL_id</th>\n    </tr>\n  </thead>\n  <tbody>\n    <tr>\n      <th>89</th>\n      <td>89</td>\n      <td>13.739363</td>\n      <td>13.969238</td>\n      <td>10.349782</td>\n      <td>10.349774</td>\n      <td>10.349782</td>\n      <td>10.349785</td>\n      <td>10.349771</td>\n      <td>10.349771</td>\n      <td>14.207639</td>\n      <td>14.207648</td>\n      <td>14.207643</td>\n      <td>0.4</td>\n      <td>0.0</td>\n      <td>0.5</td>\n      <td>27303.001135</td>\n      <td>0.256410</td>\n      <td>2.815386</td>\n      <td>0.35</td>\n      <td>1</td>\n    </tr>\n    <tr>\n      <th>90</th>\n      <td>90</td>\n      <td>12.735762</td>\n      <td>12.926852</td>\n      <td>10.349974</td>\n      <td>10.349975</td>\n      <td>10.349991</td>\n      <td>10.349991</td>\n      <td>10.349984</td>\n      <td>10.349953</td>\n      <td>14.334116</td>\n      <td>14.334112</td>\n      <td>14.334118</td>\n      <td>0.4</td>\n      <td>0.1</td>\n      <td>0.5</td>\n      <td>26188.448070</td>\n      <td>0.266667</td>\n      <td>2.454646</td>\n      <td>0.35</td>\n      <td>1</td>\n    </tr>\n    <tr>\n      <th>91</th>\n      <td>91</td>\n      <td>11.610260</td>\n      <td>11.764006</td>\n      <td>10.350307</td>\n      <td>10.350305</td>\n      <td>10.350298</td>\n      <td>10.350298</td>\n      <td>10.350293</td>\n      <td>10.350317</td>\n      <td>14.529641</td>\n      <td>14.529646</td>\n      <td>14.529650</td>\n      <td>0.4</td>\n      <td>0.2</td>\n      <td>0.5</td>\n      <td>25041.972432</td>\n      <td>0.277778</td>\n      <td>2.064744</td>\n      <td>0.35</td>\n      <td>1</td>\n    </tr>\n    <tr>\n      <th>92</th>\n      <td>92</td>\n      <td>10.295500</td>\n      <td>10.411456</td>\n      <td>10.349419</td>\n      <td>10.349411</td>\n      <td>10.349415</td>\n      <td>10.349420</td>\n      <td>10.349409</td>\n      <td>10.349409</td>\n      <td>14.824764</td>\n      <td>14.824779</td>\n      <td>14.824774</td>\n      <td>0.4</td>\n      <td>0.3</td>\n      <td>0.5</td>\n      <td>23848.447924</td>\n      <td>0.289855</td>\n      <td>1.638185</td>\n      <td>0.35</td>\n      <td>1</td>\n    </tr>\n    <tr>\n      <th>93</th>\n      <td>93</td>\n      <td>8.660678</td>\n      <td>8.732952</td>\n      <td>10.349564</td>\n      <td>10.349565</td>\n      <td>10.349565</td>\n      <td>10.349565</td>\n      <td>10.349566</td>\n      <td>10.349558</td>\n      <td>15.265218</td>\n      <td>15.265219</td>\n      <td>15.265211</td>\n      <td>0.4</td>\n      <td>0.4</td>\n      <td>0.5</td>\n      <td>22580.206259</td>\n      <td>0.303030</td>\n      <td>1.164594</td>\n      <td>0.35</td>\n      <td>1</td>\n    </tr>\n    <tr>\n      <th>94</th>\n      <td>94</td>\n      <td>6.358542</td>\n      <td>6.389872</td>\n      <td>10.349594</td>\n      <td>10.349580</td>\n      <td>10.349604</td>\n      <td>10.349588</td>\n      <td>10.349582</td>\n      <td>10.349568</td>\n      <td>15.938254</td>\n      <td>15.938332</td>\n      <td>15.938213</td>\n      <td>0.4</td>\n      <td>0.5</td>\n      <td>0.5</td>\n      <td>21176.310139</td>\n      <td>0.317460</td>\n      <td>0.627421</td>\n      <td>0.35</td>\n      <td>1</td>\n    </tr>\n    <tr>\n      <th>216</th>\n      <td>216</td>\n      <td>NaN</td>\n      <td>NaN</td>\n      <td>NaN</td>\n      <td>NaN</td>\n      <td>NaN</td>\n      <td>NaN</td>\n      <td>NaN</td>\n      <td>NaN</td>\n      <td>NaN</td>\n      <td>NaN</td>\n      <td>NaN</td>\n      <td>0.4</td>\n      <td>0.6</td>\n      <td>0.5</td>\n      <td>NaN</td>\n      <td>NaN</td>\n      <td>NaN</td>\n      <td>NaN</td>\n      <td>1</td>\n    </tr>\n    <tr>\n      <th>217</th>\n      <td>217</td>\n      <td>NaN</td>\n      <td>NaN</td>\n      <td>NaN</td>\n      <td>NaN</td>\n      <td>NaN</td>\n      <td>NaN</td>\n      <td>NaN</td>\n      <td>NaN</td>\n      <td>NaN</td>\n      <td>NaN</td>\n      <td>NaN</td>\n      <td>0.4</td>\n      <td>0.7</td>\n      <td>0.5</td>\n      <td>NaN</td>\n      <td>NaN</td>\n      <td>NaN</td>\n      <td>NaN</td>\n      <td>1</td>\n    </tr>\n    <tr>\n      <th>218</th>\n      <td>218</td>\n      <td>NaN</td>\n      <td>NaN</td>\n      <td>NaN</td>\n      <td>NaN</td>\n      <td>NaN</td>\n      <td>NaN</td>\n      <td>NaN</td>\n      <td>NaN</td>\n      <td>NaN</td>\n      <td>NaN</td>\n      <td>NaN</td>\n      <td>0.4</td>\n      <td>0.8</td>\n      <td>0.5</td>\n      <td>NaN</td>\n      <td>NaN</td>\n      <td>NaN</td>\n      <td>NaN</td>\n      <td>1</td>\n    </tr>\n    <tr>\n      <th>219</th>\n      <td>219</td>\n      <td>NaN</td>\n      <td>NaN</td>\n      <td>NaN</td>\n      <td>NaN</td>\n      <td>NaN</td>\n      <td>NaN</td>\n      <td>NaN</td>\n      <td>NaN</td>\n      <td>NaN</td>\n      <td>NaN</td>\n      <td>NaN</td>\n      <td>0.4</td>\n      <td>0.9</td>\n      <td>0.5</td>\n      <td>NaN</td>\n      <td>NaN</td>\n      <td>NaN</td>\n      <td>NaN</td>\n      <td>1</td>\n    </tr>\n  </tbody>\n</table>\n</div>"
     },
     "execution_count": 42,
     "metadata": {},
     "output_type": "execute_result"
    }
   ],
   "source": [
    "edl_dividida[(edl_dividida['alpha'] == 0.4) & (edl_dividida['a'] == 0.5)]"
   ],
   "metadata": {
    "collapsed": false,
    "ExecuteTime": {
     "end_time": "2023-08-09T04:26:40.231312300Z",
     "start_time": "2023-08-09T04:26:40.136221900Z"
    }
   }
  },
  {
   "cell_type": "code",
   "execution_count": 5,
   "outputs": [
    {
     "data": {
      "text/plain": "     a  alpha  beta           VRC  EDL_id\n0  0.3    0.0   0.0  24177.793877       0\n1  0.3    0.0   0.1  23619.052766       0\n2  0.3    0.0   0.2  23060.077591       0\n3  0.3    0.0   0.3  22500.853868       0\n4  0.3    0.0   0.4  21941.365772       0",
      "text/html": "<div>\n<style scoped>\n    .dataframe tbody tr th:only-of-type {\n        vertical-align: middle;\n    }\n\n    .dataframe tbody tr th {\n        vertical-align: top;\n    }\n\n    .dataframe thead th {\n        text-align: right;\n    }\n</style>\n<table border=\"1\" class=\"dataframe\">\n  <thead>\n    <tr style=\"text-align: right;\">\n      <th></th>\n      <th>a</th>\n      <th>alpha</th>\n      <th>beta</th>\n      <th>VRC</th>\n      <th>EDL_id</th>\n    </tr>\n  </thead>\n  <tbody>\n    <tr>\n      <th>0</th>\n      <td>0.3</td>\n      <td>0.0</td>\n      <td>0.0</td>\n      <td>24177.793877</td>\n      <td>0</td>\n    </tr>\n    <tr>\n      <th>1</th>\n      <td>0.3</td>\n      <td>0.0</td>\n      <td>0.1</td>\n      <td>23619.052766</td>\n      <td>0</td>\n    </tr>\n    <tr>\n      <th>2</th>\n      <td>0.3</td>\n      <td>0.0</td>\n      <td>0.2</td>\n      <td>23060.077591</td>\n      <td>0</td>\n    </tr>\n    <tr>\n      <th>3</th>\n      <td>0.3</td>\n      <td>0.0</td>\n      <td>0.3</td>\n      <td>22500.853868</td>\n      <td>0</td>\n    </tr>\n    <tr>\n      <th>4</th>\n      <td>0.3</td>\n      <td>0.0</td>\n      <td>0.4</td>\n      <td>21941.365772</td>\n      <td>0</td>\n    </tr>\n  </tbody>\n</table>\n</div>"
     },
     "execution_count": 5,
     "metadata": {},
     "output_type": "execute_result"
    }
   ],
   "source": [
    "# Agregamos una columna para identificarlas después de la unión\n",
    "edl_completa['EDL_id'] = 0\n",
    "edl_dividida['EDL_id'] = 1\n",
    "# Unir ambas tablas\n",
    "cols = ['a', 'alpha', 'beta', 'VRC', 'EDL_id']\n",
    "data = pd.concat([edl_completa[cols], edl_dividida[cols]], axis=0)\n",
    "# Eliminar los puntos infactibles\n",
    "data = data[~data['VRC'].isna()]\n",
    "data = data.reset_index(drop=True)\n",
    "# Ordenar\n",
    "data = data.sort_values(by=['a', 'alpha', 'beta'])\n",
    "# Eliminamos los puntos donde alguna de las opt no terminó\n",
    "aux = data.groupby(['a', 'alpha', 'beta']).VRC.transform('count') > 1\n",
    "data = data[aux]\n",
    "# Encontrar mínimo para cada a, alpha y beta.\n",
    "data_min_index = data.groupby(['a', 'alpha', 'beta'])['VRC'].idxmin()\n",
    "data_min = data.loc[data_min_index]\n",
    "data_min.head()"
   ],
   "metadata": {
    "collapsed": false,
    "ExecuteTime": {
     "end_time": "2023-08-09T21:55:04.453913700Z",
     "start_time": "2023-08-09T21:55:04.389629Z"
    }
   }
  },
  {
   "cell_type": "code",
   "execution_count": 6,
   "outputs": [],
   "source": [
    "def graficarPred(data, a):\n",
    "    \"\"\"\n",
    "    Función para graficar un mapa de calor con la predicción de división en el SC.\n",
    "    :param data: dataFrame. Información a graficar, debe tener las columnas ['alpha', 'beta', 'SC_division'].\n",
    "    :return:\n",
    "    \"\"\"\n",
    "    pivot = data[data['a'] == a].pivot(index='beta', columns='alpha', values='EDL_id')\n",
    "    pivot = pivot.sort_index(ascending = False)\n",
    "\n",
    "    colors = {'steelblue': 0, 'plum':1}\n",
    "    l_colors = sorted(colors, key=colors.get)\n",
    "\n",
    "    fig, ax = plt.subplots()\n",
    "    sns.heatmap(pivot, annot=False, cmap=l_colors,  vmin=0, vmax=1, ax=ax)\n",
    "\n",
    "    # Manually specify colorbar labelling after it's been generated\n",
    "    colorbar = ax.collections[0].colorbar\n",
    "    colorbar.set_ticks([0.25, 0.75])\n",
    "    colorbar.set_ticklabels([r'$n_0$', r'$n_1$'])\n",
    "    colorbar.ax.tick_params(labelsize=12)\n",
    "\n",
    "    ax.set_title(f'EDL óptima predicción, a={a}')\n",
    "\n",
    "    plt.show()"
   ],
   "metadata": {
    "collapsed": false,
    "ExecuteTime": {
     "end_time": "2023-08-09T21:55:10.092832700Z",
     "start_time": "2023-08-09T21:55:10.057204800Z"
    }
   }
  },
  {
   "cell_type": "code",
   "execution_count": null,
   "outputs": [],
   "source": [],
   "metadata": {
    "collapsed": false
   }
  },
  {
   "cell_type": "code",
   "execution_count": 23,
   "outputs": [
    {
     "data": {
      "text/plain": "     Unnamed: 0  CIR_I_bus  CIR_R_bus    F_bus_1    F_bus_2    F_bus_3  \\\n89           89  13.739363  13.969238  10.349782  10.349774  10.349782   \n90           90  12.735762  12.926852  10.349974  10.349975  10.349991   \n91           91  11.610260  11.764006  10.350307  10.350305  10.350298   \n92           92  10.295500  10.411456  10.349419  10.349411  10.349415   \n93           93   8.660678   8.732952  10.349564  10.349565  10.349565   \n94           94   6.358542   6.389872  10.349594  10.349580  10.349604   \n216         216        NaN        NaN        NaN        NaN        NaN   \n217         217        NaN        NaN        NaN        NaN        NaN   \n218         218        NaN        NaN        NaN        NaN        NaN   \n219         219        NaN        NaN        NaN        NaN        NaN   \n\n       F_bus_4    F_bus_5    F_bus_6  DS3_bus_1  DS3_bus_2  DS3_bus_3  alpha  \\\n89   10.349785  10.349771  10.349771  14.207639  14.207648  14.207643    0.4   \n90   10.349991  10.349984  10.349953  14.334116  14.334112  14.334118    0.4   \n91   10.350298  10.350293  10.350317  14.529641  14.529646  14.529650    0.4   \n92   10.349420  10.349409  10.349409  14.824764  14.824779  14.824774    0.4   \n93   10.349565  10.349566  10.349558  15.265218  15.265219  15.265211    0.4   \n94   10.349588  10.349582  10.349568  15.938254  15.938332  15.938213    0.4   \n216        NaN        NaN        NaN        NaN        NaN        NaN    0.4   \n217        NaN        NaN        NaN        NaN        NaN        NaN    0.4   \n218        NaN        NaN        NaN        NaN        NaN        NaN    0.4   \n219        NaN        NaN        NaN        NaN        NaN        NaN    0.4   \n\n     beta    a           VRC  factor_carga  transbordos  largo_lineas  EDL_id  \n89    0.0  0.5  27303.001135      0.256410     2.815386          0.35       1  \n90    0.1  0.5  26188.448070      0.266667     2.454646          0.35       1  \n91    0.2  0.5  25041.972432      0.277778     2.064744          0.35       1  \n92    0.3  0.5  23848.447924      0.289855     1.638185          0.35       1  \n93    0.4  0.5  22580.206259      0.303030     1.164594          0.35       1  \n94    0.5  0.5  21176.310139      0.317460     0.627421          0.35       1  \n216   0.6  0.5           NaN           NaN          NaN           NaN       1  \n217   0.7  0.5           NaN           NaN          NaN           NaN       1  \n218   0.8  0.5           NaN           NaN          NaN           NaN       1  \n219   0.9  0.5           NaN           NaN          NaN           NaN       1  ",
      "text/html": "<div>\n<style scoped>\n    .dataframe tbody tr th:only-of-type {\n        vertical-align: middle;\n    }\n\n    .dataframe tbody tr th {\n        vertical-align: top;\n    }\n\n    .dataframe thead th {\n        text-align: right;\n    }\n</style>\n<table border=\"1\" class=\"dataframe\">\n  <thead>\n    <tr style=\"text-align: right;\">\n      <th></th>\n      <th>Unnamed: 0</th>\n      <th>CIR_I_bus</th>\n      <th>CIR_R_bus</th>\n      <th>F_bus_1</th>\n      <th>F_bus_2</th>\n      <th>F_bus_3</th>\n      <th>F_bus_4</th>\n      <th>F_bus_5</th>\n      <th>F_bus_6</th>\n      <th>DS3_bus_1</th>\n      <th>DS3_bus_2</th>\n      <th>DS3_bus_3</th>\n      <th>alpha</th>\n      <th>beta</th>\n      <th>a</th>\n      <th>VRC</th>\n      <th>factor_carga</th>\n      <th>transbordos</th>\n      <th>largo_lineas</th>\n      <th>EDL_id</th>\n    </tr>\n  </thead>\n  <tbody>\n    <tr>\n      <th>89</th>\n      <td>89</td>\n      <td>13.739363</td>\n      <td>13.969238</td>\n      <td>10.349782</td>\n      <td>10.349774</td>\n      <td>10.349782</td>\n      <td>10.349785</td>\n      <td>10.349771</td>\n      <td>10.349771</td>\n      <td>14.207639</td>\n      <td>14.207648</td>\n      <td>14.207643</td>\n      <td>0.4</td>\n      <td>0.0</td>\n      <td>0.5</td>\n      <td>27303.001135</td>\n      <td>0.256410</td>\n      <td>2.815386</td>\n      <td>0.35</td>\n      <td>1</td>\n    </tr>\n    <tr>\n      <th>90</th>\n      <td>90</td>\n      <td>12.735762</td>\n      <td>12.926852</td>\n      <td>10.349974</td>\n      <td>10.349975</td>\n      <td>10.349991</td>\n      <td>10.349991</td>\n      <td>10.349984</td>\n      <td>10.349953</td>\n      <td>14.334116</td>\n      <td>14.334112</td>\n      <td>14.334118</td>\n      <td>0.4</td>\n      <td>0.1</td>\n      <td>0.5</td>\n      <td>26188.448070</td>\n      <td>0.266667</td>\n      <td>2.454646</td>\n      <td>0.35</td>\n      <td>1</td>\n    </tr>\n    <tr>\n      <th>91</th>\n      <td>91</td>\n      <td>11.610260</td>\n      <td>11.764006</td>\n      <td>10.350307</td>\n      <td>10.350305</td>\n      <td>10.350298</td>\n      <td>10.350298</td>\n      <td>10.350293</td>\n      <td>10.350317</td>\n      <td>14.529641</td>\n      <td>14.529646</td>\n      <td>14.529650</td>\n      <td>0.4</td>\n      <td>0.2</td>\n      <td>0.5</td>\n      <td>25041.972432</td>\n      <td>0.277778</td>\n      <td>2.064744</td>\n      <td>0.35</td>\n      <td>1</td>\n    </tr>\n    <tr>\n      <th>92</th>\n      <td>92</td>\n      <td>10.295500</td>\n      <td>10.411456</td>\n      <td>10.349419</td>\n      <td>10.349411</td>\n      <td>10.349415</td>\n      <td>10.349420</td>\n      <td>10.349409</td>\n      <td>10.349409</td>\n      <td>14.824764</td>\n      <td>14.824779</td>\n      <td>14.824774</td>\n      <td>0.4</td>\n      <td>0.3</td>\n      <td>0.5</td>\n      <td>23848.447924</td>\n      <td>0.289855</td>\n      <td>1.638185</td>\n      <td>0.35</td>\n      <td>1</td>\n    </tr>\n    <tr>\n      <th>93</th>\n      <td>93</td>\n      <td>8.660678</td>\n      <td>8.732952</td>\n      <td>10.349564</td>\n      <td>10.349565</td>\n      <td>10.349565</td>\n      <td>10.349565</td>\n      <td>10.349566</td>\n      <td>10.349558</td>\n      <td>15.265218</td>\n      <td>15.265219</td>\n      <td>15.265211</td>\n      <td>0.4</td>\n      <td>0.4</td>\n      <td>0.5</td>\n      <td>22580.206259</td>\n      <td>0.303030</td>\n      <td>1.164594</td>\n      <td>0.35</td>\n      <td>1</td>\n    </tr>\n    <tr>\n      <th>94</th>\n      <td>94</td>\n      <td>6.358542</td>\n      <td>6.389872</td>\n      <td>10.349594</td>\n      <td>10.349580</td>\n      <td>10.349604</td>\n      <td>10.349588</td>\n      <td>10.349582</td>\n      <td>10.349568</td>\n      <td>15.938254</td>\n      <td>15.938332</td>\n      <td>15.938213</td>\n      <td>0.4</td>\n      <td>0.5</td>\n      <td>0.5</td>\n      <td>21176.310139</td>\n      <td>0.317460</td>\n      <td>0.627421</td>\n      <td>0.35</td>\n      <td>1</td>\n    </tr>\n    <tr>\n      <th>216</th>\n      <td>216</td>\n      <td>NaN</td>\n      <td>NaN</td>\n      <td>NaN</td>\n      <td>NaN</td>\n      <td>NaN</td>\n      <td>NaN</td>\n      <td>NaN</td>\n      <td>NaN</td>\n      <td>NaN</td>\n      <td>NaN</td>\n      <td>NaN</td>\n      <td>0.4</td>\n      <td>0.6</td>\n      <td>0.5</td>\n      <td>NaN</td>\n      <td>NaN</td>\n      <td>NaN</td>\n      <td>NaN</td>\n      <td>1</td>\n    </tr>\n    <tr>\n      <th>217</th>\n      <td>217</td>\n      <td>NaN</td>\n      <td>NaN</td>\n      <td>NaN</td>\n      <td>NaN</td>\n      <td>NaN</td>\n      <td>NaN</td>\n      <td>NaN</td>\n      <td>NaN</td>\n      <td>NaN</td>\n      <td>NaN</td>\n      <td>NaN</td>\n      <td>0.4</td>\n      <td>0.7</td>\n      <td>0.5</td>\n      <td>NaN</td>\n      <td>NaN</td>\n      <td>NaN</td>\n      <td>NaN</td>\n      <td>1</td>\n    </tr>\n    <tr>\n      <th>218</th>\n      <td>218</td>\n      <td>NaN</td>\n      <td>NaN</td>\n      <td>NaN</td>\n      <td>NaN</td>\n      <td>NaN</td>\n      <td>NaN</td>\n      <td>NaN</td>\n      <td>NaN</td>\n      <td>NaN</td>\n      <td>NaN</td>\n      <td>NaN</td>\n      <td>0.4</td>\n      <td>0.8</td>\n      <td>0.5</td>\n      <td>NaN</td>\n      <td>NaN</td>\n      <td>NaN</td>\n      <td>NaN</td>\n      <td>1</td>\n    </tr>\n    <tr>\n      <th>219</th>\n      <td>219</td>\n      <td>NaN</td>\n      <td>NaN</td>\n      <td>NaN</td>\n      <td>NaN</td>\n      <td>NaN</td>\n      <td>NaN</td>\n      <td>NaN</td>\n      <td>NaN</td>\n      <td>NaN</td>\n      <td>NaN</td>\n      <td>NaN</td>\n      <td>0.4</td>\n      <td>0.9</td>\n      <td>0.5</td>\n      <td>NaN</td>\n      <td>NaN</td>\n      <td>NaN</td>\n      <td>NaN</td>\n      <td>1</td>\n    </tr>\n  </tbody>\n</table>\n</div>"
     },
     "execution_count": 23,
     "metadata": {},
     "output_type": "execute_result"
    }
   ],
   "source": [
    "edl_dividida[(edl_dividida['a'] == 0.5) & (edl_dividida['alpha'] == 0.4)]"
   ],
   "metadata": {
    "collapsed": false,
    "ExecuteTime": {
     "end_time": "2023-08-09T04:09:43.272545800Z",
     "start_time": "2023-08-09T04:09:43.240256900Z"
    }
   }
  },
  {
   "cell_type": "code",
   "execution_count": 24,
   "outputs": [
    {
     "data": {
      "text/plain": "     Unnamed: 0   D3_bus_1   D3_bus_2   D3_bus_3  CIR_I_bus  CIR_R_bus  alpha  \\\n89           89  11.656040  11.656039  11.656046  11.429199  11.550178    0.4   \n90           90  11.611598  11.611573  11.611625  10.752787  10.858083    0.4   \n91           91  11.606045  11.606041  11.606043   9.957818  10.045542    0.4   \n92           92  11.650832  11.650837  11.650832   8.980747   9.048666    0.4   \n93           93  11.771643  11.771336  11.771872   7.692638   7.738048    0.4   \n94           94  12.012632  12.012641  12.012619   5.761312   5.781948    0.4   \n216         216        NaN        NaN        NaN        NaN        NaN    0.4   \n217         217        NaN        NaN        NaN        NaN        NaN    0.4   \n218         218        NaN        NaN        NaN        NaN        NaN    0.4   \n219         219        NaN        NaN        NaN        NaN        NaN    0.4   \n\n     beta    a           VRC  factor_carga  transbordos  largo_lineas  EDL_id  \n89    0.0  0.5  26105.973950      0.218750    32.601119      3.867857       0  \n90    0.1  0.5  25025.616991      0.203540    30.142275      3.867857       0  \n91    0.2  0.5  23924.327274      0.193548    27.571843      3.867857       0  \n92    0.3  0.5  22791.539935      0.191686    24.890922      3.867857       0  \n93    0.4  0.5  21607.319488      0.202128    22.087025      3.867857       0  \n94    0.5  0.5  20325.281311      0.230769    19.146514      3.867857       0  \n216   0.6  0.5           NaN           NaN          NaN           NaN       0  \n217   0.7  0.5           NaN           NaN          NaN           NaN       0  \n218   0.8  0.5           NaN           NaN          NaN           NaN       0  \n219   0.9  0.5           NaN           NaN          NaN           NaN       0  ",
      "text/html": "<div>\n<style scoped>\n    .dataframe tbody tr th:only-of-type {\n        vertical-align: middle;\n    }\n\n    .dataframe tbody tr th {\n        vertical-align: top;\n    }\n\n    .dataframe thead th {\n        text-align: right;\n    }\n</style>\n<table border=\"1\" class=\"dataframe\">\n  <thead>\n    <tr style=\"text-align: right;\">\n      <th></th>\n      <th>Unnamed: 0</th>\n      <th>D3_bus_1</th>\n      <th>D3_bus_2</th>\n      <th>D3_bus_3</th>\n      <th>CIR_I_bus</th>\n      <th>CIR_R_bus</th>\n      <th>alpha</th>\n      <th>beta</th>\n      <th>a</th>\n      <th>VRC</th>\n      <th>factor_carga</th>\n      <th>transbordos</th>\n      <th>largo_lineas</th>\n      <th>EDL_id</th>\n    </tr>\n  </thead>\n  <tbody>\n    <tr>\n      <th>89</th>\n      <td>89</td>\n      <td>11.656040</td>\n      <td>11.656039</td>\n      <td>11.656046</td>\n      <td>11.429199</td>\n      <td>11.550178</td>\n      <td>0.4</td>\n      <td>0.0</td>\n      <td>0.5</td>\n      <td>26105.973950</td>\n      <td>0.218750</td>\n      <td>32.601119</td>\n      <td>3.867857</td>\n      <td>0</td>\n    </tr>\n    <tr>\n      <th>90</th>\n      <td>90</td>\n      <td>11.611598</td>\n      <td>11.611573</td>\n      <td>11.611625</td>\n      <td>10.752787</td>\n      <td>10.858083</td>\n      <td>0.4</td>\n      <td>0.1</td>\n      <td>0.5</td>\n      <td>25025.616991</td>\n      <td>0.203540</td>\n      <td>30.142275</td>\n      <td>3.867857</td>\n      <td>0</td>\n    </tr>\n    <tr>\n      <th>91</th>\n      <td>91</td>\n      <td>11.606045</td>\n      <td>11.606041</td>\n      <td>11.606043</td>\n      <td>9.957818</td>\n      <td>10.045542</td>\n      <td>0.4</td>\n      <td>0.2</td>\n      <td>0.5</td>\n      <td>23924.327274</td>\n      <td>0.193548</td>\n      <td>27.571843</td>\n      <td>3.867857</td>\n      <td>0</td>\n    </tr>\n    <tr>\n      <th>92</th>\n      <td>92</td>\n      <td>11.650832</td>\n      <td>11.650837</td>\n      <td>11.650832</td>\n      <td>8.980747</td>\n      <td>9.048666</td>\n      <td>0.4</td>\n      <td>0.3</td>\n      <td>0.5</td>\n      <td>22791.539935</td>\n      <td>0.191686</td>\n      <td>24.890922</td>\n      <td>3.867857</td>\n      <td>0</td>\n    </tr>\n    <tr>\n      <th>93</th>\n      <td>93</td>\n      <td>11.771643</td>\n      <td>11.771336</td>\n      <td>11.771872</td>\n      <td>7.692638</td>\n      <td>7.738048</td>\n      <td>0.4</td>\n      <td>0.4</td>\n      <td>0.5</td>\n      <td>21607.319488</td>\n      <td>0.202128</td>\n      <td>22.087025</td>\n      <td>3.867857</td>\n      <td>0</td>\n    </tr>\n    <tr>\n      <th>94</th>\n      <td>94</td>\n      <td>12.012632</td>\n      <td>12.012641</td>\n      <td>12.012619</td>\n      <td>5.761312</td>\n      <td>5.781948</td>\n      <td>0.4</td>\n      <td>0.5</td>\n      <td>0.5</td>\n      <td>20325.281311</td>\n      <td>0.230769</td>\n      <td>19.146514</td>\n      <td>3.867857</td>\n      <td>0</td>\n    </tr>\n    <tr>\n      <th>216</th>\n      <td>216</td>\n      <td>NaN</td>\n      <td>NaN</td>\n      <td>NaN</td>\n      <td>NaN</td>\n      <td>NaN</td>\n      <td>0.4</td>\n      <td>0.6</td>\n      <td>0.5</td>\n      <td>NaN</td>\n      <td>NaN</td>\n      <td>NaN</td>\n      <td>NaN</td>\n      <td>0</td>\n    </tr>\n    <tr>\n      <th>217</th>\n      <td>217</td>\n      <td>NaN</td>\n      <td>NaN</td>\n      <td>NaN</td>\n      <td>NaN</td>\n      <td>NaN</td>\n      <td>0.4</td>\n      <td>0.7</td>\n      <td>0.5</td>\n      <td>NaN</td>\n      <td>NaN</td>\n      <td>NaN</td>\n      <td>NaN</td>\n      <td>0</td>\n    </tr>\n    <tr>\n      <th>218</th>\n      <td>218</td>\n      <td>NaN</td>\n      <td>NaN</td>\n      <td>NaN</td>\n      <td>NaN</td>\n      <td>NaN</td>\n      <td>0.4</td>\n      <td>0.8</td>\n      <td>0.5</td>\n      <td>NaN</td>\n      <td>NaN</td>\n      <td>NaN</td>\n      <td>NaN</td>\n      <td>0</td>\n    </tr>\n    <tr>\n      <th>219</th>\n      <td>219</td>\n      <td>NaN</td>\n      <td>NaN</td>\n      <td>NaN</td>\n      <td>NaN</td>\n      <td>NaN</td>\n      <td>0.4</td>\n      <td>0.9</td>\n      <td>0.5</td>\n      <td>NaN</td>\n      <td>NaN</td>\n      <td>NaN</td>\n      <td>NaN</td>\n      <td>0</td>\n    </tr>\n  </tbody>\n</table>\n</div>"
     },
     "execution_count": 24,
     "metadata": {},
     "output_type": "execute_result"
    }
   ],
   "source": [
    "edl_completa[(edl_completa['a'] == 0.5) & (edl_completa['alpha'] == 0.4)]"
   ],
   "metadata": {
    "collapsed": false,
    "ExecuteTime": {
     "end_time": "2023-08-09T04:10:09.764152Z",
     "start_time": "2023-08-09T04:10:09.689110800Z"
    }
   }
  },
  {
   "cell_type": "code",
   "execution_count": 8,
   "outputs": [
    {
     "data": {
      "text/plain": "<Figure size 432x288 with 2 Axes>",
      "image/png": "[encoded data removed]"
     },
     "metadata": {},
     "output_type": "display_data"
    }
   ],
   "source": [
    "graficarPred(data_min, 0.5)"
   ],
   "metadata": {
    "collapsed": false,
    "ExecuteTime": {
     "end_time": "2023-08-09T22:32:14.706942800Z",
     "start_time": "2023-08-09T22:32:13.502996700Z"
    }
   }
  },
  {
   "cell_type": "code",
   "execution_count": 8,
   "outputs": [
    {
     "data": {
      "text/plain": "       a  alpha  beta  EDL_id\n6    0.3    0.0   0.6       0\n172  0.3    0.0   0.7       1\n16   0.3    0.1   0.6       0\n17   0.3    0.1   0.7       0\n183  0.3    0.1   0.8       1",
      "text/html": "<div>\n<style scoped>\n    .dataframe tbody tr th:only-of-type {\n        vertical-align: middle;\n    }\n\n    .dataframe tbody tr th {\n        vertical-align: top;\n    }\n\n    .dataframe thead th {\n        text-align: right;\n    }\n</style>\n<table border=\"1\" class=\"dataframe\">\n  <thead>\n    <tr style=\"text-align: right;\">\n      <th></th>\n      <th>a</th>\n      <th>alpha</th>\n      <th>beta</th>\n      <th>EDL_id</th>\n    </tr>\n  </thead>\n  <tbody>\n    <tr>\n      <th>6</th>\n      <td>0.3</td>\n      <td>0.0</td>\n      <td>0.6</td>\n      <td>0</td>\n    </tr>\n    <tr>\n      <th>172</th>\n      <td>0.3</td>\n      <td>0.0</td>\n      <td>0.7</td>\n      <td>1</td>\n    </tr>\n    <tr>\n      <th>16</th>\n      <td>0.3</td>\n      <td>0.1</td>\n      <td>0.6</td>\n      <td>0</td>\n    </tr>\n    <tr>\n      <th>17</th>\n      <td>0.3</td>\n      <td>0.1</td>\n      <td>0.7</td>\n      <td>0</td>\n    </tr>\n    <tr>\n      <th>183</th>\n      <td>0.3</td>\n      <td>0.1</td>\n      <td>0.8</td>\n      <td>1</td>\n    </tr>\n  </tbody>\n</table>\n</div>"
     },
     "execution_count": 8,
     "metadata": {},
     "output_type": "execute_result"
    }
   ],
   "source": [
    "frontera = calibrador.obtener_frontera()\n",
    "frontera.head()"
   ],
   "metadata": {
    "collapsed": false,
    "ExecuteTime": {
     "end_time": "2023-08-08T23:49:48.212929600Z",
     "start_time": "2023-08-08T23:49:48.148591100Z"
    }
   }
  },
  {
   "cell_type": "code",
   "execution_count": 5,
   "outputs": [
    {
     "data": {
      "text/plain": "array([0.0226486 , 0.24418634, 0.72320651])"
     },
     "execution_count": 5,
     "metadata": {},
     "output_type": "execute_result"
    }
   ],
   "source": [
    "terminos_optimos = calibrador.calibrar_frontera(frontera)\n",
    "terminos_optimos"
   ],
   "metadata": {
    "collapsed": false,
    "ExecuteTime": {
     "end_time": "2023-07-12T20:21:02.238166900Z",
     "start_time": "2023-07-12T20:21:02.199386Z"
    }
   }
  },
  {
   "cell_type": "code",
   "execution_count": 33,
   "outputs": [],
   "source": [
    "d1, d2, umbral = 0.2, 0.5, 0.54\n",
    "\n",
    "completa = edl_completa.drop('EDL_id', axis=1)\n",
    "pred = completa.merge(frontera[['a', 'alpha', 'beta', 'EDL_id']], on=['a', 'alpha', 'beta'], how='right')\n",
    "pred['indice'] = pred['factor_carga']*(1-pred['transbordos']*d1)*(1+pred['largo_lineas']*d2)\n",
    "pred['error'] = (pred['indice'] - umbral)*(1-2*pred['EDL_id'])\n",
    "pred.loc[pred['error'] > 0, 'error'] = np.cbrt(pred[pred['error'] > 0]['error'])"
   ],
   "metadata": {
    "collapsed": false,
    "ExecuteTime": {
     "end_time": "2023-08-09T04:15:08.358753Z",
     "start_time": "2023-08-09T04:15:08.311066300Z"
    }
   }
  },
  {
   "cell_type": "code",
   "execution_count": 34,
   "outputs": [
    {
     "data": {
      "text/plain": "   Unnamed: 0  D3_bus_1  D3_bus_2  D3_bus_3  CIR_I_bus  CIR_R_bus  alpha  \\\n0           6  7.482955  7.483033  7.482946  16.612917  16.965523    0.0   \n1           7  7.474519  7.474557  7.474580  16.233720  16.569506    0.0   \n2          16  8.736865  8.736865  8.736875  13.942279  14.180021    0.1   \n3          17  9.118930  9.118932  9.118952  12.720320  12.911246    0.1   \n4          18  9.877411  9.877421  9.877413  10.544875  10.665299    0.1   \n\n   beta    a           VRC  factor_carga  transbordos  largo_lineas  EDL_id  \\\n0   0.6  0.3  20821.525420      0.453333     3.207279      3.867857       0   \n1   0.7  0.3  20261.133110      0.473333     2.408171      3.867857       1   \n2   0.6  0.3  19743.961146      0.085366     5.493960      3.867857       0   \n3   0.7  0.3  18991.383003      0.186257     4.605800      3.867857       0   \n4   0.8  0.3  18046.415319      0.342105     3.644678      3.867857       1   \n\n     indice     error  \n0  0.476881 -0.063119  \n1  0.719868 -0.179868  \n2 -0.024743 -0.564743  \n3  0.043083 -0.496917  \n4  0.272071  0.644674  ",
      "text/html": "<div>\n<style scoped>\n    .dataframe tbody tr th:only-of-type {\n        vertical-align: middle;\n    }\n\n    .dataframe tbody tr th {\n        vertical-align: top;\n    }\n\n    .dataframe thead th {\n        text-align: right;\n    }\n</style>\n<table border=\"1\" class=\"dataframe\">\n  <thead>\n    <tr style=\"text-align: right;\">\n      <th></th>\n      <th>Unnamed: 0</th>\n      <th>D3_bus_1</th>\n      <th>D3_bus_2</th>\n      <th>D3_bus_3</th>\n      <th>CIR_I_bus</th>\n      <th>CIR_R_bus</th>\n      <th>alpha</th>\n      <th>beta</th>\n      <th>a</th>\n      <th>VRC</th>\n      <th>factor_carga</th>\n      <th>transbordos</th>\n      <th>largo_lineas</th>\n      <th>EDL_id</th>\n      <th>indice</th>\n      <th>error</th>\n    </tr>\n  </thead>\n  <tbody>\n    <tr>\n      <th>0</th>\n      <td>6</td>\n      <td>7.482955</td>\n      <td>7.483033</td>\n      <td>7.482946</td>\n      <td>16.612917</td>\n      <td>16.965523</td>\n      <td>0.0</td>\n      <td>0.6</td>\n      <td>0.3</td>\n      <td>20821.525420</td>\n      <td>0.453333</td>\n      <td>3.207279</td>\n      <td>3.867857</td>\n      <td>0</td>\n      <td>0.476881</td>\n      <td>-0.063119</td>\n    </tr>\n    <tr>\n      <th>1</th>\n      <td>7</td>\n      <td>7.474519</td>\n      <td>7.474557</td>\n      <td>7.474580</td>\n      <td>16.233720</td>\n      <td>16.569506</td>\n      <td>0.0</td>\n      <td>0.7</td>\n      <td>0.3</td>\n      <td>20261.133110</td>\n      <td>0.473333</td>\n      <td>2.408171</td>\n      <td>3.867857</td>\n      <td>1</td>\n      <td>0.719868</td>\n      <td>-0.179868</td>\n    </tr>\n    <tr>\n      <th>2</th>\n      <td>16</td>\n      <td>8.736865</td>\n      <td>8.736865</td>\n      <td>8.736875</td>\n      <td>13.942279</td>\n      <td>14.180021</td>\n      <td>0.1</td>\n      <td>0.6</td>\n      <td>0.3</td>\n      <td>19743.961146</td>\n      <td>0.085366</td>\n      <td>5.493960</td>\n      <td>3.867857</td>\n      <td>0</td>\n      <td>-0.024743</td>\n      <td>-0.564743</td>\n    </tr>\n    <tr>\n      <th>3</th>\n      <td>17</td>\n      <td>9.118930</td>\n      <td>9.118932</td>\n      <td>9.118952</td>\n      <td>12.720320</td>\n      <td>12.911246</td>\n      <td>0.1</td>\n      <td>0.7</td>\n      <td>0.3</td>\n      <td>18991.383003</td>\n      <td>0.186257</td>\n      <td>4.605800</td>\n      <td>3.867857</td>\n      <td>0</td>\n      <td>0.043083</td>\n      <td>-0.496917</td>\n    </tr>\n    <tr>\n      <th>4</th>\n      <td>18</td>\n      <td>9.877411</td>\n      <td>9.877421</td>\n      <td>9.877413</td>\n      <td>10.544875</td>\n      <td>10.665299</td>\n      <td>0.1</td>\n      <td>0.8</td>\n      <td>0.3</td>\n      <td>18046.415319</td>\n      <td>0.342105</td>\n      <td>3.644678</td>\n      <td>3.867857</td>\n      <td>1</td>\n      <td>0.272071</td>\n      <td>0.644674</td>\n    </tr>\n  </tbody>\n</table>\n</div>"
     },
     "execution_count": 34,
     "metadata": {},
     "output_type": "execute_result"
    }
   ],
   "source": [
    "pred.head()"
   ],
   "metadata": {
    "collapsed": false,
    "ExecuteTime": {
     "end_time": "2023-08-09T04:15:16.074158600Z",
     "start_time": "2023-08-09T04:15:16.036587800Z"
    }
   }
  },
  {
   "cell_type": "code",
   "execution_count": 19,
   "outputs": [
    {
     "data": {
      "text/plain": "0.0"
     },
     "execution_count": 19,
     "metadata": {},
     "output_type": "execute_result"
    }
   ],
   "source": [
    "calibrador.error_prediccion(0.8, 0.2, 0.54, frontera)"
   ],
   "metadata": {
    "collapsed": false,
    "ExecuteTime": {
     "end_time": "2023-07-12T20:20:13.745376800Z",
     "start_time": "2023-07-12T20:20:13.707216400Z"
    }
   }
  }
 ],
 "metadata": {
  "kernelspec": {
   "display_name": "Python 3",
   "language": "python",
   "name": "python3"
  },
  "language_info": {
   "codemirror_mode": {
    "name": "ipython",
    "version": 2
   },
   "file_extension": ".py",
   "mimetype": "text/x-python",
   "name": "python",
   "nbconvert_exporter": "python",
   "pygments_lexer": "ipython2",
   "version": "2.7.6"
  }
 },
 "nbformat": 4,
 "nbformat_minor": 0
}
